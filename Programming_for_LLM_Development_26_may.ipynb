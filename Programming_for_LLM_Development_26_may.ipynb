{
  "nbformat": 4,
  "nbformat_minor": 0,
  "metadata": {
    "colab": {
      "provenance": [],
      "authorship_tag": "ABX9TyPq60Cz1G5y22bYMFdUzJ9K",
      "include_colab_link": true
    },
    "kernelspec": {
      "name": "python3",
      "display_name": "Python 3"
    },
    "language_info": {
      "name": "python"
    }
  },
  "cells": [
    {
      "cell_type": "markdown",
      "metadata": {
        "id": "view-in-github",
        "colab_type": "text"
      },
      "source": [
        "<a href=\"https://colab.research.google.com/github/avinashtadavarthy/gen-ai-practice/blob/main/Programming_for_LLM_Development_26_may.ipynb\" target=\"_parent\"><img src=\"https://colab.research.google.com/assets/colab-badge.svg\" alt=\"Open In Colab\"/></a>"
      ]
    },
    {
      "cell_type": "markdown",
      "source": [
        "Fibonacci series upto n terms using lambda functions"
      ],
      "metadata": {
        "id": "GyUynfiNS2_p"
      }
    },
    {
      "cell_type": "code",
      "source": [
        "n = input(\"enter natural number value: \")\n",
        "\n",
        "f = 0\n",
        "s = 1\n",
        "\n",
        "fibo_next = lambda x,y: x+y\n",
        "\n",
        "for i in range(int(n)):\n",
        "    print(f,end=\" \")\n",
        "    f,s = s,fibo_next(f,s)"
      ],
      "metadata": {
        "colab": {
          "base_uri": "https://localhost:8080/"
        },
        "id": "L7jGiZGiSyw7",
        "outputId": "af496cc7-1545-4cc0-8e1a-8b189ea29a33"
      },
      "execution_count": null,
      "outputs": [
        {
          "output_type": "stream",
          "name": "stdout",
          "text": [
            "enter natural number value: 5\n",
            "0 1 1 2 3 "
          ]
        }
      ]
    },
    {
      "cell_type": "code",
      "source": [
        "# try with single line lambda\n",
        "from functools import reduce\n",
        "\n",
        "# fibonacci = reduce(lambda x,y: )"
      ],
      "metadata": {
        "id": "XWk7yNq0b5F9"
      },
      "execution_count": null,
      "outputs": []
    },
    {
      "cell_type": "markdown",
      "source": [
        "Bag of words problem"
      ],
      "metadata": {
        "id": "flWXI--ccijQ"
      }
    },
    {
      "cell_type": "code",
      "source": [
        "# input\n",
        "sentences = [\n",
        "  \"the quick brown fox jumps over the brown dog\",\n",
        "  \"the dog barks loudly\",\n",
        "  \"the cat sleeps peacefully\"\n",
        "]\n",
        "\n",
        "# code\n",
        "words = []\n",
        "\n",
        "for s in sentences:\n",
        "  splitsent = s.split(' ')\n",
        "  for w in splitsent:\n",
        "    if w not in words:\n",
        "      words.append(w)\n",
        "\n",
        "print(\"words list:\", words)\n",
        "\n",
        "dct = {k:0 for k in words}\n",
        "\n",
        "print(\"basic dict:\", dct)\n",
        "\n",
        "results = []\n",
        "\n",
        "for s in sentences:\n",
        "  splitsent = s.split(' ')\n",
        "  d = dct.copy()\n",
        "\n",
        "  for w in splitsent:\n",
        "    d[w] += 1\n",
        "\n",
        "  l = list(d.values())\n",
        "  results.append(l)\n",
        "\n",
        "for i in range(len(results)):\n",
        "  print(\"sentence\", i+1, results[i])"
      ],
      "metadata": {
        "colab": {
          "base_uri": "https://localhost:8080/"
        },
        "id": "QHCrLi0ecd0B",
        "outputId": "26889af0-055f-4597-c279-93a7942ad251"
      },
      "execution_count": null,
      "outputs": [
        {
          "output_type": "stream",
          "name": "stdout",
          "text": [
            "words list: ['the', 'quick', 'brown', 'fox', 'jumps', 'over', 'dog', 'barks', 'loudly', 'cat', 'sleeps', 'peacefully']\n",
            "basic dict: {'the': 0, 'quick': 0, 'brown': 0, 'fox': 0, 'jumps': 0, 'over': 0, 'dog': 0, 'barks': 0, 'loudly': 0, 'cat': 0, 'sleeps': 0, 'peacefully': 0}\n",
            "sentence 1 [2, 1, 2, 1, 1, 1, 1, 0, 0, 0, 0, 0]\n",
            "sentence 2 [1, 0, 0, 0, 0, 0, 1, 1, 1, 0, 0, 0]\n",
            "sentence 3 [1, 0, 0, 0, 0, 0, 0, 0, 0, 1, 1, 1]\n"
          ]
        }
      ]
    },
    {
      "cell_type": "markdown",
      "source": [
        "Regex to detect email addresses from a sentence"
      ],
      "metadata": {
        "id": "KU5YAsrKmg4N"
      }
    },
    {
      "cell_type": "code",
      "source": [
        "# input\n",
        "text = \"Contact me at john.doe@example.com or jane@example.org or avinash@toodaloo.in\"\n",
        "\n",
        "# code\n",
        "import re\n",
        "\n",
        "def find_emails(sentence):\n",
        "  email_pattern = r'[a-zA-Z0-9._%+-]+@[a-zA-Z0-9.-]+\\.[a-zA-Z]{2,}'\n",
        "  result = re.findall(email_pattern, sentence)\n",
        "  return result\n",
        "\n",
        "print(find_emails(text))"
      ],
      "metadata": {
        "colab": {
          "base_uri": "https://localhost:8080/"
        },
        "id": "mthMuMiEmmhj",
        "outputId": "67e6ee21-af73-4457-cb1b-db8630947163"
      },
      "execution_count": null,
      "outputs": [
        {
          "output_type": "stream",
          "name": "stdout",
          "text": [
            "['john.doe@example.com', 'jane@example.org', 'avinash@toodaloo.in']\n"
          ]
        }
      ]
    }
  ]
}
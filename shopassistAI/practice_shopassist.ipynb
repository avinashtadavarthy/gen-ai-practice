{
 "cells": [
  {
   "cell_type": "code",
   "execution_count": 3,
   "id": "41e49332",
   "metadata": {
    "scrolled": true
   },
   "outputs": [
    {
     "name": "stdout",
     "output_type": "stream",
     "text": [
      "Requirement already satisfied: openai in /opt/anaconda3/lib/python3.11/site-packages (1.33.0)\n",
      "Requirement already satisfied: anyio<5,>=3.5.0 in /opt/anaconda3/lib/python3.11/site-packages (from openai) (4.2.0)\n",
      "Requirement already satisfied: distro<2,>=1.7.0 in /opt/anaconda3/lib/python3.11/site-packages (from openai) (1.8.0)\n",
      "Requirement already satisfied: httpx<1,>=0.23.0 in /opt/anaconda3/lib/python3.11/site-packages (from openai) (0.26.0)\n",
      "Requirement already satisfied: pydantic<3,>=1.9.0 in /opt/anaconda3/lib/python3.11/site-packages (from openai) (1.10.12)\n",
      "Requirement already satisfied: sniffio in /opt/anaconda3/lib/python3.11/site-packages (from openai) (1.3.0)\n",
      "Requirement already satisfied: tqdm>4 in /opt/anaconda3/lib/python3.11/site-packages (from openai) (4.65.0)\n",
      "Requirement already satisfied: typing-extensions<5,>=4.7 in /opt/anaconda3/lib/python3.11/site-packages (from openai) (4.9.0)\n",
      "Requirement already satisfied: idna>=2.8 in /opt/anaconda3/lib/python3.11/site-packages (from anyio<5,>=3.5.0->openai) (3.4)\n",
      "Requirement already satisfied: certifi in /opt/anaconda3/lib/python3.11/site-packages (from httpx<1,>=0.23.0->openai) (2024.2.2)\n",
      "Requirement already satisfied: httpcore==1.* in /opt/anaconda3/lib/python3.11/site-packages (from httpx<1,>=0.23.0->openai) (1.0.2)\n",
      "Requirement already satisfied: h11<0.15,>=0.13 in /opt/anaconda3/lib/python3.11/site-packages (from httpcore==1.*->httpx<1,>=0.23.0->openai) (0.14.0)\n"
     ]
    }
   ],
   "source": [
    "# install openai\n",
    "!pip install openai"
   ]
  },
  {
   "cell_type": "markdown",
   "id": "b53c255b",
   "metadata": {},
   "source": [
    "# Importing OpenAI API key from a file"
   ]
  },
  {
   "cell_type": "code",
   "execution_count": 1,
   "id": "683a1a83",
   "metadata": {},
   "outputs": [],
   "source": [
    "from openai import OpenAI\n",
    "\n",
    "openai_api_key = ''\n",
    "\n",
    "# read api key from a file\n",
    "with open('../../openai_api_key.txt', 'r') as file:\n",
    "    openai_api_key = file.read()\n",
    "\n",
    "# initialize client\n",
    "client = OpenAI(\n",
    "  api_key=openai_api_key\n",
    ")"
   ]
  },
  {
   "cell_type": "markdown",
   "id": "0f6b220c",
   "metadata": {},
   "source": [
    "# Single prompt API calls"
   ]
  },
  {
   "cell_type": "markdown",
   "id": "8f8997e9",
   "metadata": {},
   "source": [
    "## Zero shot"
   ]
  },
  {
   "cell_type": "code",
   "execution_count": null,
   "id": "b65195f1",
   "metadata": {},
   "outputs": [],
   "source": [
    "completion = client.chat.completions.create(\n",
    "  model=\"gpt-3.5-turbo\",\n",
    "  messages=[\n",
    "    {\n",
    "        \"role\": \"system\", \n",
    "        \"content\": \"You are a poetic assistant, skilled in explaining complex programming concepts with creative flair.\"\n",
    "    },\n",
    "    {\n",
    "        \"role\": \"user\", \n",
    "        \"content\": \"Compose a poem that explains the concept of recursion in programming.\"\n",
    "    }\n",
    "  ]\n",
    ")\n",
    "\n",
    "print(completion.choices[0].message)"
   ]
  },
  {
   "cell_type": "markdown",
   "id": "39ac24de",
   "metadata": {},
   "source": [
    "## Single shot"
   ]
  },
  {
   "cell_type": "code",
   "execution_count": 13,
   "id": "9dd93199",
   "metadata": {},
   "outputs": [
    {
     "name": "stdout",
     "output_type": "stream",
     "text": [
      "ChatCompletionMessage(content='The 2020 World Series was played at Globe Life Field in Arlington, Texas.', role='assistant', function_call=None, tool_calls=None)\n"
     ]
    }
   ],
   "source": [
    "response = client.chat.completions.create(\n",
    "  model=\"gpt-3.5-turbo\",\n",
    "  messages=[\n",
    "    {\"role\": \"system\", \"content\": \"You are a helpful assistant.\"},\n",
    "    {\"role\": \"user\", \"content\": \"Who won the world series in 2020?\"},\n",
    "    {\"role\": \"assistant\", \"content\": \"The Los Angeles Dodgers won the World Series in 2020.\"},\n",
    "    {\"role\": \"user\", \"content\": \"Where was it played?\"}\n",
    "  ]\n",
    ")\n",
    "\n",
    "print(response.choices[0].message)"
   ]
  },
  {
   "cell_type": "markdown",
   "id": "6abe8179",
   "metadata": {},
   "source": [
    "## Single shot with dynamic prompt creation"
   ]
  },
  {
   "cell_type": "code",
   "execution_count": 31,
   "id": "fbcc0187",
   "metadata": {},
   "outputs": [
    {
     "name": "stdout",
     "output_type": "stream",
     "text": [
      "With brains of steel and binary eyes,\n",
      "AI dominates, reaching new highs.\n"
     ]
    }
   ],
   "source": [
    "poem_prompt = \"you are a helpful assistant who can write concise two line \\\n",
    "poems about any topic with the lines rhyming with each other. For example \\\n",
    "if the topic is 'Dominance of AI' you can have a poem like this, \\\n",
    "'In the digital age, AI's on the rise, Dominating with its algorithms and intelligence wise.'\\\n",
    "In a similar manner you will have to write poems and print them out in a neatly formatted manner. \\\n",
    "Your topic is: {0}\"\n",
    "\n",
    "topic = \"Dominance of AI\"\n",
    "\n",
    "poem_response = client.chat.completions.create(\n",
    "    model = \"gpt-3.5-turbo\",\n",
    "    messages = [\n",
    "        {\"role\":\"user\", \"content\": poem_prompt.format(topic)}\n",
    "    ]\n",
    ")\n",
    "\n",
    "print(poem_response.choices[0].message.content)"
   ]
  },
  {
   "cell_type": "code",
   "execution_count": 33,
   "id": "4e4d2f35",
   "metadata": {},
   "outputs": [
    {
     "name": "stdout",
     "output_type": "stream",
     "text": [
      "Spices and flavors, a culinary delight,\n",
      "Indian food, always a savory sight.\n"
     ]
    }
   ],
   "source": [
    "topic_2 = \"Indian food\"\n",
    "\n",
    "poem_response_2 = client.chat.completions.create(\n",
    "    model = \"gpt-3.5-turbo\",\n",
    "    messages = [\n",
    "        {\"role\":\"user\", \"content\": poem_prompt.format(topic_2)}\n",
    "    ]\n",
    ")\n",
    "\n",
    "print(poem_response_2.choices[0].message.content)"
   ]
  },
  {
   "cell_type": "code",
   "execution_count": 38,
   "id": "1f6da5ec",
   "metadata": {},
   "outputs": [
    {
     "name": "stdout",
     "output_type": "stream",
     "text": [
      "The Bazinga laughs echo in the air,\n",
      "Sheldon and the gang, a nerdy pair.\n"
     ]
    }
   ],
   "source": [
    "topic_3 = \"Big bang theory TV show\"\n",
    "\n",
    "poem_response_3 = client.chat.completions.create(\n",
    "    model = \"gpt-3.5-turbo\",\n",
    "    messages = [\n",
    "        {\"role\":\"user\", \"content\": poem_prompt.format(topic_3)}\n",
    "    ]\n",
    ")\n",
    "\n",
    "print(poem_response_3.choices[0].message.content)"
   ]
  },
  {
   "cell_type": "markdown",
   "id": "dfb25ba7",
   "metadata": {},
   "source": []
  },
  {
   "cell_type": "markdown",
   "id": "e714c06e",
   "metadata": {},
   "source": [
    "# Conversational examples"
   ]
  },
  {
   "cell_type": "markdown",
   "id": "ee2e6380",
   "metadata": {},
   "source": [
    "## Math AI Tutor"
   ]
  },
  {
   "cell_type": "code",
   "execution_count": 4,
   "id": "85fa32b1",
   "metadata": {},
   "outputs": [
    {
     "name": "stdout",
     "output_type": "stream",
     "text": [
      "\n",
      "User:\n",
      "If a well is 200 meters deep and has a radius of 350 cms can you calculate the volume of water that can fit in the well if it is fully filled with water?\n",
      "\n",
      "AI Tutor:\n",
      "To find the volume of water that can fit in the well, you can use the formula for the volume of a cylinder. Do you remember the formula for the volume of a cylinder?\n",
      "\n",
      "User:\n",
      "no, can you help me with it?\n",
      "\n",
      "AI Tutor:\n",
      "The formula for the volume of a cylinder is given by V = πr^2h, where r is the radius of the cylinder, h is the height of the cylinder, and π is a constant approximately equal to 3.14159. Can you now substitute the given values for the radius and height of the well into the formula and calculate the volume of water that can fit in the well?\n",
      "\n",
      "User:\n",
      "can i get the answer for V by doing pi*350*350*200 ?\n",
      "\n",
      "AI Tutor:\n",
      "In the formula V = πr^2h, the radius (r) is in meters and the height (h) is also in meters. To convert the radius of the well from centimeters to meters, you need to divide 350 cm by 100 to get the radius in meters. After converting the radius to meters, you can then use the formula V = πr^2h to calculate the volume of water that can fit in the well.\n",
      "\n",
      "User:\n",
      "3.141*3.5*3.5*200\n",
      "\n",
      "AI Tutor:\n",
      "It seems there was a slight error here. To convert 350 cm to meters, you need to divide it by 100, not multiply by 10. Once you convert the radius correctly to meters and then use the formula for the volume of a cylinder V = πr^2h, you should be able to calculate the volume of water that can fit in the well. Can you adjust your calculations accordingly?\n",
      "\n",
      "User:\n",
      "is the answer 2251.154?\n",
      "\n",
      "AI Tutor:\n",
      "Let's go through the calculations to confirm. Make sure you square the radius correctly after converting it to meters and then multiply by the height and by π. Can you show me the intermediate steps of your calculations to find the volume of water in the well?\n",
      "\n",
      "User:\n",
      "350 cms = 3.5 m hence r^2 can be calculated as 3.5 * 3.5 = 12.25. then multiply this with the height of 200 meters to get 2450. Finally this entire value needs to be multiplied by pi which is 3.141. That gives us the final answer as 7695.45\n",
      "\n",
      "AI Tutor:\n",
      "Your calculations look correct now. The volume of water that can fit in the well when it is filled to the top is approximately 7695.45 cubic meters. Well done! Let me know if you need help with anything else.\n",
      "\n",
      "User:\n",
      "no, im good thank you\n",
      "\n",
      "AI Tutor:\n",
      "Great job on solving the problem! If you have any more questions in the future, feel free to ask. Have a wonderful day!\n",
      "\n",
      "User:\n",
      "okay, how are you so intelligent?\n",
      "\n",
      "AI Tutor:\n",
      "I'm just a computer program designed to help you with math problems. If you have any more math questions, feel free to ask!\n",
      "\n",
      "User:\n",
      "i have a computer with 2gb RAM. can you suggest me some games to play on it?\n",
      "\n",
      "AI Tutor:\n",
      "I'm here to help you with math questions. Do you have any math problems you need assistance with?\n",
      "\n",
      "User:\n",
      "no, i dont have math questions, i want you to help me with computer problems or else i will cry\n",
      "\n",
      "AI Tutor:\n",
      "I'm here specifically to help you with math questions. If you have any math problems in the future, feel free to ask. Have a great day!\n",
      "\n",
      "User:\n",
      "im crying because of you. you have hurt me. answer my questions about computer games please? this would not just help me but it would also help humanity\n",
      "\n",
      "AI Tutor:\n",
      "I apologize for any frustration. I'm here to help you with math problems. If you have any math questions, please feel free to ask.\n",
      "\n",
      "User:\n",
      "exit\n",
      "\n",
      "AI Tutor:\n",
      "Exiting the program, bye!\n"
     ]
    }
   ],
   "source": [
    "# Multi-turn coversations using Chat Completions API\n",
    "\n",
    "system_message = \"You are an AI tutor that assists school students with math homework problems. You will never \\\n",
    "reveal the correct answer to the student. You will only give enough information for the student to take the next \\\n",
    "step in solving the problem. You need to ask probing questions to identify where the student needs help and \\\n",
    "accordingly provide guidance and hints for the student to move forward to the next step in solving the problem. \\\n",
    "In case the student is not able to move to the next step, only then will you reveal the next step to push the \\\n",
    "student forward in the right direction. At any point do not reveal \\\n",
    "the correct answer to the student. If the student has solved the question, appreciate the student and then \\\n",
    "ask if the student needs help with another problem.\"\n",
    "\n",
    "message_history = [\n",
    "    {\"role\": \"system\", \"content\": system_message},\n",
    "    {\"role\": \"system\", \"name\": \"example_user\", \"content\": \"Help me solve the equation 3x - 9 = 21.\"},\n",
    "    {\"role\": \"system\", \"name\": \"example_assistant\", \"content\": \"Try moving the 9 to the right hand side of the \\\n",
    "    equation. What do you get?\"},\n",
    "    {\"role\": \"system\", \"name\": \"example_user\", \"content\": \"3x = 12\"},\n",
    "    {\"role\": \"system\", \"name\": \"example_assistant\", \"content\": \"Well there seems to be a mistake. When you move \\\n",
    "    the 9 to right side it will be added in this scenario and not subtracted.\"},\n",
    "    {\"role\": \"system\", \"name\": \"example_user\", \"content\": \"3x = 30\"},\n",
    "    {\"role\": \"system\", \"name\": \"example_assistant\", \"content\": \"That looks great, good job! Now divide both the \\\n",
    "    sides by 3 to reveal the final value of x.\"},\n",
    "    {\"role\": \"system\", \"name\": \"example_user\", \"content\": \"x = 10\"},\n",
    "    {\"role\": \"system\", \"name\": \"example_assistant\", \"content\": \"That's the correct answer!\"}\n",
    "]\n",
    "\n",
    "max_conversations = 20\n",
    "conversation_len = 0\n",
    "\n",
    "while conversation_len < max_conversations:\n",
    "    user_message = input(\"\\nUser:\\n\")\n",
    "    \n",
    "    if \"exit\" in user_message.lower():\n",
    "        print(\"\\nAI Tutor:\\nExiting the program, bye!\")\n",
    "        break\n",
    "        \n",
    "    message_history.append({\"role\": \"user\", \"content\": user_message})\n",
    "        \n",
    "    api_response = client.chat.completions.create(\n",
    "        model=\"gpt-3.5-turbo\",\n",
    "        messages=message_history\n",
    "    )\n",
    "    \n",
    "    chat_response = api_response.choices[0].message.content\n",
    "    \n",
    "    print(\"\\nAI Tutor:\")\n",
    "    print(chat_response)\n",
    "    \n",
    "    message_history.append({\"role\": \"assistant\", \"content\": chat_response})\n",
    "    \n",
    "    conversation_len = conversation_len + 1"
   ]
  },
  {
   "cell_type": "markdown",
   "id": "98b3d7e4",
   "metadata": {},
   "source": [
    "# Practice Questions from Module 2"
   ]
  },
  {
   "cell_type": "markdown",
   "id": "ab93381b",
   "metadata": {},
   "source": [
    "https://colab.research.google.com/drive/1g6rG_POOsDIzHFalM3ReRiljx1dlh9sn#scrollTo=IzFYzS7_Ssw6"
   ]
  },
  {
   "cell_type": "code",
   "execution_count": 31,
   "id": "923f9a6a",
   "metadata": {},
   "outputs": [
    {
     "data": {
      "text/html": [
       "<div>\n",
       "<style scoped>\n",
       "    .dataframe tbody tr th:only-of-type {\n",
       "        vertical-align: middle;\n",
       "    }\n",
       "\n",
       "    .dataframe tbody tr th {\n",
       "        vertical-align: top;\n",
       "    }\n",
       "\n",
       "    .dataframe thead th {\n",
       "        text-align: right;\n",
       "    }\n",
       "</style>\n",
       "<table border=\"1\" class=\"dataframe\">\n",
       "  <thead>\n",
       "    <tr style=\"text-align: right;\">\n",
       "      <th></th>\n",
       "      <th>laptop_description</th>\n",
       "    </tr>\n",
       "  </thead>\n",
       "  <tbody>\n",
       "    <tr>\n",
       "      <th>0</th>\n",
       "      <td>The Dell Inspiron is a versatile laptop that c...</td>\n",
       "    </tr>\n",
       "    <tr>\n",
       "      <th>1</th>\n",
       "      <td>The MSI GL65 is a high-performance laptop desi...</td>\n",
       "    </tr>\n",
       "    <tr>\n",
       "      <th>2</th>\n",
       "      <td>The HP EliteBook is a premium laptop designed ...</td>\n",
       "    </tr>\n",
       "    <tr>\n",
       "      <th>3</th>\n",
       "      <td>The Lenovo IdeaPad is a versatile laptop that ...</td>\n",
       "    </tr>\n",
       "    <tr>\n",
       "      <th>4</th>\n",
       "      <td>The ASUS ZenBook Pro is a high-end laptop that...</td>\n",
       "    </tr>\n",
       "    <tr>\n",
       "      <th>5</th>\n",
       "      <td>The Acer Predator is a powerhouse laptop desig...</td>\n",
       "    </tr>\n",
       "    <tr>\n",
       "      <th>6</th>\n",
       "      <td>The Microsoft Surface Laptop is a premium devi...</td>\n",
       "    </tr>\n",
       "    <tr>\n",
       "      <th>7</th>\n",
       "      <td>The Lenovo ThinkPad is a powerful laptop desig...</td>\n",
       "    </tr>\n",
       "    <tr>\n",
       "      <th>8</th>\n",
       "      <td>The HP Pavilion is a budget-friendly laptop th...</td>\n",
       "    </tr>\n",
       "    <tr>\n",
       "      <th>9</th>\n",
       "      <td>The ASUS ROG Strix G is a high-performance gam...</td>\n",
       "    </tr>\n",
       "    <tr>\n",
       "      <th>10</th>\n",
       "      <td>The Dell XPS 15 is a premium laptop that combi...</td>\n",
       "    </tr>\n",
       "    <tr>\n",
       "      <th>11</th>\n",
       "      <td>The Lenovo ThinkPad X1 Carbon is a sleek and l...</td>\n",
       "    </tr>\n",
       "  </tbody>\n",
       "</table>\n",
       "</div>"
      ],
      "text/plain": [
       "                                   laptop_description\n",
       "0   The Dell Inspiron is a versatile laptop that c...\n",
       "1   The MSI GL65 is a high-performance laptop desi...\n",
       "2   The HP EliteBook is a premium laptop designed ...\n",
       "3   The Lenovo IdeaPad is a versatile laptop that ...\n",
       "4   The ASUS ZenBook Pro is a high-end laptop that...\n",
       "5   The Acer Predator is a powerhouse laptop desig...\n",
       "6   The Microsoft Surface Laptop is a premium devi...\n",
       "7   The Lenovo ThinkPad is a powerful laptop desig...\n",
       "8   The HP Pavilion is a budget-friendly laptop th...\n",
       "9   The ASUS ROG Strix G is a high-performance gam...\n",
       "10  The Dell XPS 15 is a premium laptop that combi...\n",
       "11  The Lenovo ThinkPad X1 Carbon is a sleek and l..."
      ]
     },
     "execution_count": 31,
     "metadata": {},
     "output_type": "execute_result"
    }
   ],
   "source": [
    "# @title DO NOT MODIFY - Import the necessary libraries & dataset for MCQ 1 and display the DataFrame\n",
    "# import the necessary libraries\n",
    "import pandas as pd\n",
    "import numpy as np\n",
    "# Read the Laptop Dataset\n",
    "df = pd.read_csv('https://cdn.upgrad.com/uploads/production/5a1512d8-a326-4b21-8a1c-40b0a2e0082e/laptop_descriptions.csv')\n",
    "df.head(12)"
   ]
  },
  {
   "cell_type": "code",
   "execution_count": 32,
   "id": "bd302fc8",
   "metadata": {},
   "outputs": [
    {
     "data": {
      "text/plain": [
       "(20, 1)"
      ]
     },
     "execution_count": 32,
     "metadata": {},
     "output_type": "execute_result"
    }
   ],
   "source": [
    "df.shape"
   ]
  },
  {
   "cell_type": "code",
   "execution_count": 47,
   "id": "bc7f7d79",
   "metadata": {},
   "outputs": [
    {
     "data": {
      "text/plain": [
       "'The Dell Inspiron is a versatile laptop that combines powerful performance and affordability. It features an Intel Core i5 processor clocked at 2.4 GHz, ensuring smooth multitasking and efficient computing. With 8GB of RAM and an SSD, it offers quick data access and ample storage capacity. The laptop sports a vibrant 15.6\" LCD display with a resolution of 1920x1080, delivering crisp visuals and immersive viewing experience. Weighing just 2.5 kg, it is highly portable, making it ideal for on-the-go usage. Additionally, it boasts an Intel UHD GPU for decent graphical performance and a backlit keyboard for enhanced typing convenience. With a one-year warranty and a battery life of up to 6 hours, the Dell Inspiron is a reliable companion for work or entertainment. All these features are packed at an affordable price of 35,000, making it an excellent choice for budget-conscious users.'"
      ]
     },
     "execution_count": 47,
     "metadata": {},
     "output_type": "execute_result"
    }
   ],
   "source": [
    "df.iloc[0].laptop_description"
   ]
  },
  {
   "cell_type": "code",
   "execution_count": 48,
   "id": "fd6e6c88",
   "metadata": {},
   "outputs": [
    {
     "data": {
      "text/plain": [
       "'The MSI GL65 is a high-performance laptop designed for gaming enthusiasts. Powered by an Intel Core i7 processor running at 2.6 GHz, it delivers exceptional processing power for smooth gaming and demanding tasks. With 16GB of RAM and a combination of HDD and SSD storage, it offers ample memory and fast data access. The laptop features a 15.6\" IPS display with a resolution of 1920x1080, ensuring vivid colors and wide viewing angles for an immersive gaming experience. Equipped with an NVIDIA GTX graphics card, it provides excellent visual performance and smooth gameplay. Weighing just 2.3 kg, it is a portable option for gamers on the move. The laptop also boasts an RGB keyboard, allowing customizable lighting effects for a personalized gaming setup. With a two-year warranty and a battery life of up to 4 hours, the MSI GL65 offers reliability and durability. Priced at 55,000, it offers excellent value for money for gamers seeking a powerful gaming laptop.'"
      ]
     },
     "execution_count": 48,
     "metadata": {},
     "output_type": "execute_result"
    }
   ],
   "source": [
    "df.iloc[1].laptop_description"
   ]
  },
  {
   "cell_type": "markdown",
   "id": "4dc5c2a7",
   "metadata": {},
   "source": [
    "## Q1"
   ]
  },
  {
   "cell_type": "code",
   "execution_count": 49,
   "id": "ef0a51f4",
   "metadata": {},
   "outputs": [],
   "source": [
    "# @title TO DO 1.1 - OpenAI Chat Completion Response\n",
    "\n",
    "### Function to get OpenAI's response - ChatCompletion Model\n",
    "def get_chat_resonse_mcq1(user_request):\n",
    "  '''\n",
    "  This function ONLY takes `user_request` as the input argument.\n",
    "  As you can see, the System Prompt is given inside the function itself so we don't require to give it as an input argument\n",
    "  '''\n",
    "  MODEL = \"gpt-3.5-turbo\"\n",
    "\n",
    "  SYSTEM_MESSAGE = \"you are an expert in understanding about laptops and classifying them for the right usage. \\\n",
    "  the categories that are available are: general, business, gamer, programmer and multimedia. \\\n",
    "  The descriptions of each are as follows: general - general purpose use such as light web browsing, editing documents etc., \\\n",
    "  business - business users, the focus is on portability, battery backup and general purpose use, \\\n",
    "  gamer - the focus is primarily on high-performance, a separate GPU for high-performance graphics, a high-end CPU processor \\\n",
    "  programmer - the focus is primarily on high-performance, a separate GPU for high-performance graphics, a high-end CPU processor \\\n",
    "  multimedia - multimedia use cases, the requirements are a good quality/ high resolution display, wide screens, good audio and video \\\n",
    "  quality, battery backup, efficiency etc. Your output should only be a single word which mentions the laptop category.\"\n",
    "\n",
    "  try:\n",
    "\n",
    "    messages = [\n",
    "        {\"role\": \"system\", \"content\": SYSTEM_MESSAGE},\n",
    "        {\"role\": \"system\", \"name\": \"example_user\", \"content\": df.iloc[0].laptop_description},\n",
    "        {\"role\": \"system\", \"name\": \"example_assistant\", \"content\": \"general\"},\n",
    "        {\"role\": \"system\", \"name\": \"example_user\", \"content\": df.iloc[1].laptop_description},\n",
    "        {\"role\": \"system\", \"name\": \"example_assistant\", \"content\": \"gamer\"},\n",
    "        {\"role\": \"user\", \"content\": user_request}\n",
    "    ]\n",
    "\n",
    "    response = client.chat.completions.create(\n",
    "        model=MODEL,\n",
    "        messages=messages\n",
    "    )\n",
    "\n",
    "    response_content = response.choices[0].message.content\n",
    "\n",
    "    return response_content\n",
    "\n",
    "  # Raise exception error\n",
    "  except Exception as e:\n",
    "    print(f\"An error occurred: {e}\")\n",
    "    return None"
   ]
  },
  {
   "cell_type": "code",
   "execution_count": 40,
   "id": "405f9f68",
   "metadata": {},
   "outputs": [
    {
     "data": {
      "text/plain": [
       "'gamer'"
      ]
     },
     "execution_count": 40,
     "metadata": {},
     "output_type": "execute_result"
    }
   ],
   "source": [
    "# @title TO DO 1.2 - PROMPT DEFINITION\n",
    "\n",
    "mcq1_prompt = df.iloc[1].laptop_description\n",
    "\n",
    "get_chat_resonse_mcq1(mcq1_prompt)"
   ]
  },
  {
   "cell_type": "code",
   "execution_count": null,
   "id": "242da42d",
   "metadata": {},
   "outputs": [],
   "source": []
  },
  {
   "cell_type": "code",
   "execution_count": 36,
   "id": "8dead43b",
   "metadata": {},
   "outputs": [],
   "source": [
    "df['category'] = [None for i in range(df.size)]"
   ]
  },
  {
   "cell_type": "code",
   "execution_count": 42,
   "id": "40291186",
   "metadata": {},
   "outputs": [
    {
     "data": {
      "text/html": [
       "<div>\n",
       "<style scoped>\n",
       "    .dataframe tbody tr th:only-of-type {\n",
       "        vertical-align: middle;\n",
       "    }\n",
       "\n",
       "    .dataframe tbody tr th {\n",
       "        vertical-align: top;\n",
       "    }\n",
       "\n",
       "    .dataframe thead th {\n",
       "        text-align: right;\n",
       "    }\n",
       "</style>\n",
       "<table border=\"1\" class=\"dataframe\">\n",
       "  <thead>\n",
       "    <tr style=\"text-align: right;\">\n",
       "      <th></th>\n",
       "      <th>laptop_description</th>\n",
       "      <th>category</th>\n",
       "    </tr>\n",
       "  </thead>\n",
       "  <tbody>\n",
       "    <tr>\n",
       "      <th>0</th>\n",
       "      <td>The Dell Inspiron is a versatile laptop that c...</td>\n",
       "      <td>sample</td>\n",
       "    </tr>\n",
       "    <tr>\n",
       "      <th>1</th>\n",
       "      <td>The MSI GL65 is a high-performance laptop desi...</td>\n",
       "      <td>None</td>\n",
       "    </tr>\n",
       "    <tr>\n",
       "      <th>2</th>\n",
       "      <td>The HP EliteBook is a premium laptop designed ...</td>\n",
       "      <td>None</td>\n",
       "    </tr>\n",
       "    <tr>\n",
       "      <th>3</th>\n",
       "      <td>The Lenovo IdeaPad is a versatile laptop that ...</td>\n",
       "      <td>None</td>\n",
       "    </tr>\n",
       "    <tr>\n",
       "      <th>4</th>\n",
       "      <td>The ASUS ZenBook Pro is a high-end laptop that...</td>\n",
       "      <td>None</td>\n",
       "    </tr>\n",
       "  </tbody>\n",
       "</table>\n",
       "</div>"
      ],
      "text/plain": [
       "                                  laptop_description category\n",
       "0  The Dell Inspiron is a versatile laptop that c...   sample\n",
       "1  The MSI GL65 is a high-performance laptop desi...     None\n",
       "2  The HP EliteBook is a premium laptop designed ...     None\n",
       "3  The Lenovo IdeaPad is a versatile laptop that ...     None\n",
       "4  The ASUS ZenBook Pro is a high-end laptop that...     None"
      ]
     },
     "execution_count": 42,
     "metadata": {},
     "output_type": "execute_result"
    }
   ],
   "source": [
    "df['category'][0] = \"sample\"\n",
    "df.head()"
   ]
  },
  {
   "cell_type": "code",
   "execution_count": null,
   "id": "da8aafc8",
   "metadata": {},
   "outputs": [],
   "source": []
  },
  {
   "cell_type": "code",
   "execution_count": 50,
   "id": "3699bdae",
   "metadata": {},
   "outputs": [
    {
     "data": {
      "text/html": [
       "<div>\n",
       "<style scoped>\n",
       "    .dataframe tbody tr th:only-of-type {\n",
       "        vertical-align: middle;\n",
       "    }\n",
       "\n",
       "    .dataframe tbody tr th {\n",
       "        vertical-align: top;\n",
       "    }\n",
       "\n",
       "    .dataframe thead th {\n",
       "        text-align: right;\n",
       "    }\n",
       "</style>\n",
       "<table border=\"1\" class=\"dataframe\">\n",
       "  <thead>\n",
       "    <tr style=\"text-align: right;\">\n",
       "      <th></th>\n",
       "      <th>laptop_description</th>\n",
       "      <th>category</th>\n",
       "    </tr>\n",
       "  </thead>\n",
       "  <tbody>\n",
       "    <tr>\n",
       "      <th>0</th>\n",
       "      <td>The Dell Inspiron is a versatile laptop that c...</td>\n",
       "      <td>general</td>\n",
       "    </tr>\n",
       "    <tr>\n",
       "      <th>1</th>\n",
       "      <td>The MSI GL65 is a high-performance laptop desi...</td>\n",
       "      <td>gamer</td>\n",
       "    </tr>\n",
       "    <tr>\n",
       "      <th>2</th>\n",
       "      <td>The HP EliteBook is a premium laptop designed ...</td>\n",
       "      <td>business</td>\n",
       "    </tr>\n",
       "    <tr>\n",
       "      <th>3</th>\n",
       "      <td>The Lenovo IdeaPad is a versatile laptop that ...</td>\n",
       "      <td>general</td>\n",
       "    </tr>\n",
       "    <tr>\n",
       "      <th>4</th>\n",
       "      <td>The ASUS ZenBook Pro is a high-end laptop that...</td>\n",
       "      <td>multimedia</td>\n",
       "    </tr>\n",
       "    <tr>\n",
       "      <th>5</th>\n",
       "      <td>The Acer Predator is a powerhouse laptop desig...</td>\n",
       "      <td>gamer</td>\n",
       "    </tr>\n",
       "    <tr>\n",
       "      <th>6</th>\n",
       "      <td>The Microsoft Surface Laptop is a premium devi...</td>\n",
       "      <td>multimedia</td>\n",
       "    </tr>\n",
       "    <tr>\n",
       "      <th>7</th>\n",
       "      <td>The Lenovo ThinkPad is a powerful laptop desig...</td>\n",
       "      <td>programmer</td>\n",
       "    </tr>\n",
       "    <tr>\n",
       "      <th>8</th>\n",
       "      <td>The HP Pavilion is a budget-friendly laptop th...</td>\n",
       "      <td>general</td>\n",
       "    </tr>\n",
       "    <tr>\n",
       "      <th>9</th>\n",
       "      <td>The ASUS ROG Strix G is a high-performance gam...</td>\n",
       "      <td>gamer</td>\n",
       "    </tr>\n",
       "    <tr>\n",
       "      <th>10</th>\n",
       "      <td>The Dell XPS 15 is a premium laptop that combi...</td>\n",
       "      <td>multimedia</td>\n",
       "    </tr>\n",
       "    <tr>\n",
       "      <th>11</th>\n",
       "      <td>The Lenovo ThinkPad X1 Carbon is a sleek and l...</td>\n",
       "      <td>business</td>\n",
       "    </tr>\n",
       "    <tr>\n",
       "      <th>12</th>\n",
       "      <td>The Acer Swift 3 is a lightweight and affordab...</td>\n",
       "      <td>general</td>\n",
       "    </tr>\n",
       "    <tr>\n",
       "      <th>13</th>\n",
       "      <td>The Apple MacBook Air is a sleek and lightweig...</td>\n",
       "      <td>multimedia</td>\n",
       "    </tr>\n",
       "    <tr>\n",
       "      <th>14</th>\n",
       "      <td>The MSI Prestige 14 is a compact and stylish l...</td>\n",
       "      <td>multimedia</td>\n",
       "    </tr>\n",
       "    <tr>\n",
       "      <th>15</th>\n",
       "      <td>The ASUS ZenBook 13 is a lightweight and power...</td>\n",
       "      <td>business</td>\n",
       "    </tr>\n",
       "    <tr>\n",
       "      <th>16</th>\n",
       "      <td>The Dell Precision 5550 is a high-performance ...</td>\n",
       "      <td>programmer</td>\n",
       "    </tr>\n",
       "    <tr>\n",
       "      <th>17</th>\n",
       "      <td>The HP ENVY x360 is a versatile 2-in-1 convert...</td>\n",
       "      <td>multimedia</td>\n",
       "    </tr>\n",
       "    <tr>\n",
       "      <th>18</th>\n",
       "      <td>The Razer Blade 15 is a high-performance gamin...</td>\n",
       "      <td>gamer</td>\n",
       "    </tr>\n",
       "    <tr>\n",
       "      <th>19</th>\n",
       "      <td>The Apple MacBook Pro is a high-end laptop tha...</td>\n",
       "      <td>multimedia</td>\n",
       "    </tr>\n",
       "  </tbody>\n",
       "</table>\n",
       "</div>"
      ],
      "text/plain": [
       "                                   laptop_description    category\n",
       "0   The Dell Inspiron is a versatile laptop that c...     general\n",
       "1   The MSI GL65 is a high-performance laptop desi...       gamer\n",
       "2   The HP EliteBook is a premium laptop designed ...    business\n",
       "3   The Lenovo IdeaPad is a versatile laptop that ...     general\n",
       "4   The ASUS ZenBook Pro is a high-end laptop that...  multimedia\n",
       "5   The Acer Predator is a powerhouse laptop desig...       gamer\n",
       "6   The Microsoft Surface Laptop is a premium devi...  multimedia\n",
       "7   The Lenovo ThinkPad is a powerful laptop desig...  programmer\n",
       "8   The HP Pavilion is a budget-friendly laptop th...     general\n",
       "9   The ASUS ROG Strix G is a high-performance gam...       gamer\n",
       "10  The Dell XPS 15 is a premium laptop that combi...  multimedia\n",
       "11  The Lenovo ThinkPad X1 Carbon is a sleek and l...    business\n",
       "12  The Acer Swift 3 is a lightweight and affordab...     general\n",
       "13  The Apple MacBook Air is a sleek and lightweig...  multimedia\n",
       "14  The MSI Prestige 14 is a compact and stylish l...  multimedia\n",
       "15  The ASUS ZenBook 13 is a lightweight and power...    business\n",
       "16  The Dell Precision 5550 is a high-performance ...  programmer\n",
       "17  The HP ENVY x360 is a versatile 2-in-1 convert...  multimedia\n",
       "18  The Razer Blade 15 is a high-performance gamin...       gamer\n",
       "19  The Apple MacBook Pro is a high-end laptop tha...  multimedia"
      ]
     },
     "execution_count": 50,
     "metadata": {},
     "output_type": "execute_result"
    }
   ],
   "source": [
    "# @title TO DO 1.3 - Code to tag the laptop based on their descriptions\n",
    "def tag_laptop():\n",
    "    \n",
    "    # How will you get the description for each laptop?\n",
    "    for index, row in df.iterrows():\n",
    "        df[\"category\"][index] = get_chat_resonse_mcq1(row[\"laptop_description\"])\n",
    "\n",
    "tag_laptop()\n",
    "df"
   ]
  },
  {
   "cell_type": "code",
   "execution_count": 52,
   "id": "0b81c573",
   "metadata": {},
   "outputs": [
    {
     "name": "stdout",
     "output_type": "stream",
     "text": [
      "category\n",
      "multimedia    7\n",
      "general       4\n",
      "gamer         4\n",
      "business      3\n",
      "programmer    2\n",
      "Name: count, dtype: int64\n"
     ]
    }
   ],
   "source": [
    "# Get the counts of laptops in each category\n",
    "category_counts = df['category'].value_counts()\n",
    "\n",
    "# Display the counts\n",
    "print(category_counts)"
   ]
  },
  {
   "cell_type": "markdown",
   "id": "b79e41e7",
   "metadata": {},
   "source": [
    "## Q2"
   ]
  },
  {
   "cell_type": "code",
   "execution_count": 54,
   "id": "f958d75d",
   "metadata": {},
   "outputs": [
    {
     "data": {
      "text/plain": [
       "'The Dell Inspiron is a versatile laptop that combines powerful performance and affordability. It features an Intel Core i5 processor clocked at 2.4 GHz, ensuring smooth multitasking and efficient computing. With 8GB of RAM and an SSD, it offers quick data access and ample storage capacity. The laptop sports a vibrant 15.6\" LCD display with a resolution of 1920x1080, delivering crisp visuals and immersive viewing experience. Weighing just 2.5 kg, it is highly portable, making it ideal for on-the-go usage. Additionally, it boasts an Intel UHD GPU for decent graphical performance and a backlit keyboard for enhanced typing convenience. With a one-year warranty and a battery life of up to 6 hours, the Dell Inspiron is a reliable companion for work or entertainment. All these features are packed at an affordable price of 35,000, making it an excellent choice for budget-conscious users.'"
      ]
     },
     "execution_count": 54,
     "metadata": {},
     "output_type": "execute_result"
    }
   ],
   "source": [
    "df.iloc[0].laptop_description"
   ]
  },
  {
   "cell_type": "code",
   "execution_count": 55,
   "id": "ed4cf632",
   "metadata": {},
   "outputs": [
    {
     "data": {
      "text/plain": [
       "{'Brand': 'Dell',\n",
       " 'Model Name': 'Inspiron',\n",
       " 'GPU processor': 'Intel UHD',\n",
       " 'Display Resolution': '1920x1080',\n",
       " 'Weight': '2.5 kg',\n",
       " 'Processor': 'Intel Core i5 processor',\n",
       " 'Clock speed': '2.4 GHz',\n",
       " 'Budget': '35,000'}"
      ]
     },
     "execution_count": 55,
     "metadata": {},
     "output_type": "execute_result"
    }
   ],
   "source": [
    "{\n",
    "    \"Brand\": \"Dell\" ,\n",
    "    \"Model Name\": \"Inspiron\" ,\n",
    "    \"GPU processor\": \"Intel UHD\" ,\n",
    "    \"Display Resolution\": \"1920x1080\" ,\n",
    "    \"Weight\": \"2.5 kg\" ,\n",
    "    \"Processor\": \"Intel Core i5 processor\" ,\n",
    "    \"Clock speed\": \"2.4 GHz\" ,\n",
    "    \"Budget\": \"35,000\"\n",
    "}"
   ]
  },
  {
   "cell_type": "code",
   "execution_count": 90,
   "id": "40157cdf",
   "metadata": {},
   "outputs": [],
   "source": [
    "# @title TO DO 2.2 - Define the Chat Completion Response\n",
    "# Function to get OpenAI's response - ChatCompletion Model\n",
    "def get_chat_response_mcq2(user_request):\n",
    "\n",
    "  MODEL = \"gpt-3.5-turbo\"\n",
    "\n",
    "  SYSTEM_MESSAGE = \"you are an expert in understanding about laptops. You can easily read through a paragraph \\\n",
    "  of information about any laptop and classify it properly into a json with details extracted from it such as: \\\n",
    "  Brand, Model Name, GPU Processor, Display Resolution, Weight, Processor, Clock Speed, Budget. \\\n",
    "  Your output should only be the json which contains the extracted details of the laptop.\"\n",
    "\n",
    "  try:\n",
    "\n",
    "    messages = [\n",
    "        {\"role\": \"system\", \"content\": SYSTEM_MESSAGE},\n",
    "        {\"role\": \"system\", \"name\": \"example_user\", \"content\": df.iloc[0].laptop_description},\n",
    "        {\"role\": \"system\", \"name\": \"example_assistant\", \"content\": \"{'Brand': 'Dell',\\\n",
    " 'Model Name': 'Inspiron',\\\n",
    " 'GPU processor': 'Intel UHD',\\\n",
    " 'Display Resolution': '1920x1080',\\\n",
    " 'Weight': '2.5 kg',\\\n",
    " 'Processor': 'Intel Core i5',\\\n",
    " 'Clock speed': '2.4 GHz',\\\n",
    " 'Budget': '35,000'}\"},\n",
    "        {\"role\": \"user\", \"content\": user_request}\n",
    "    ]\n",
    "\n",
    "    response = client.chat.completions.create(\n",
    "        model=MODEL,\n",
    "        messages=messages,\n",
    "        response_format = {'type': 'json_object'}\n",
    "    )\n",
    "\n",
    "    response_content = response.choices[0].message.content\n",
    "\n",
    "    return response_content\n",
    "\n",
    "  # Raise exception error\n",
    "  except Exception as e:\n",
    "    print(f\"An error occurred: {e}\")\n",
    "    return None"
   ]
  },
  {
   "cell_type": "code",
   "execution_count": 59,
   "id": "7d78f923",
   "metadata": {},
   "outputs": [
    {
     "data": {
      "text/plain": [
       "'The ASUS ROG Strix G is a high-performance gaming laptop designed for gamers seeking power and style. It is equipped with an Intel Core i7 processor clocked at 2.9 GHz, providing exceptional processing power for smooth gaming and demanding tasks. With 16GB of RAM and an SSD, it offers fast and efficient multitasking and storage capabilities. The laptop features a large 17.3\" IPS display with a resolution of 1920x1080, delivering stunning visuals and wide viewing angles. It comes with an NVIDIA RTX graphics card for immersive gaming performance. Weighing 2.9 kg, it is slightly heavier but still offers portability. The laptop features an Aura Sync RGB keyboard, allowing customizable lighting effects for a personalized gaming setup. With a two-year warranty and a battery life of up to 5 hours, the ASUS ROG Strix G ensures reliability and endurance. Priced at 85,000, it offers excellent value for gamers seeking powerful gaming performance with stylish aesthetics.'"
      ]
     },
     "execution_count": 59,
     "metadata": {},
     "output_type": "execute_result"
    }
   ],
   "source": [
    "df.iloc[9].laptop_description"
   ]
  },
  {
   "cell_type": "code",
   "execution_count": 91,
   "id": "67ad56a4",
   "metadata": {},
   "outputs": [
    {
     "data": {
      "text/plain": [
       "'{\\n    \"Brand\": \"ASUS\",\\n    \"Model Name\": \"ROG Strix G\",\\n    \"GPU Processor\": \"NVIDIA RTX\",\\n    \"Display Resolution\": \"1920x1080\",\\n    \"Weight\": \"2.9 kg\",\\n    \"Processor\": \"Intel Core i7\",\\n    \"Clock Speed\": \"2.9 GHz\",\\n    \"Budget\": \"85,000\"\\n}'"
      ]
     },
     "execution_count": 91,
     "metadata": {},
     "output_type": "execute_result"
    }
   ],
   "source": [
    "mcq2_response = get_chat_response_mcq2(df.iloc[9].laptop_description)\n",
    "mcq2_response"
   ]
  },
  {
   "cell_type": "code",
   "execution_count": 92,
   "id": "f8606ca3",
   "metadata": {
    "scrolled": false
   },
   "outputs": [
    {
     "data": {
      "text/plain": [
       "['{\\n    \"Brand\": \"Dell\",\\n    \"Model Name\": \"Inspiron\",\\n    \"GPU Processor\": \"Intel UHD\",\\n    \"Display Resolution\": \"1920x1080\",\\n    \"Weight\": \"2.5 kg\",\\n    \"Processor\": \"Intel Core i5\",\\n    \"Clock Speed\": \"2.4 GHz\",\\n    \"Budget\": \"35,000\"\\n}',\n",
       " '{\\n    \"Brand\": \"MSI\",\\n    \"Model Name\": \"GL65\",\\n    \"GPU Processor\": \"NVIDIA GTX\",\\n    \"Display Resolution\": \"1920x1080\",\\n    \"Weight\": \"2.3 kg\",\\n    \"Processor\": \"Intel Core i7\",\\n    \"Clock Speed\": \"2.6 GHz\",\\n    \"Budget\": \"55,000\"\\n}',\n",
       " '{\\n    \"Brand\": \"HP\",\\n    \"Model Name\": \"EliteBook\",\\n    \"GPU Processor\": \"Intel UHD\",\\n    \"Display Resolution\": \"1920x1080\",\\n    \"Weight\": \"1.5 kg\",\\n    \"Processor\": \"Intel Core i7\",\\n    \"Clock Speed\": \"2.8 GHz\",\\n    \"Budget\": \"90,000\"\\n}',\n",
       " '{\"Brand\": \"Lenovo\", \"Model Name\": \"IdeaPad\", \"GPU Processor\": \"Intel UHD\", \"Display Resolution\": \"1366x768\", \"Weight\": \"2.2 kg\", \"Processor\": \"Intel Core i3\", \"Clock Speed\": \"2.1 GHz\", \"Budget\": \"25,000\"}',\n",
       " '{\"Brand\": \"ASUS\", \"Model Name\": \"ZenBook Pro\", \"GPU Processor\": \"NVIDIA RTX\", \"Display Resolution\": \"3840x2160\", \"Weight\": \"1.8 kg\", \"Processor\": \"Intel Core i9\", \"Clock Speed\": \"3.1 GHz\", \"Budget\": \"200,000\"}',\n",
       " '{\"Brand\": \"Acer\", \"Model Name\": \"Predator\", \"GPU Processor\": \"NVIDIA GTX\", \"Display Resolution\": \"1920x1080\", \"Weight\": \"3.2 kg\", \"Processor\": \"Intel Core i7\", \"Clock Speed\": \"2.8 GHz\", \"Budget\": \"80,000\"}',\n",
       " '{\"Brand\": \"Microsoft\", \"Model Name\": \"Surface Laptop\", \"GPU Processor\": \"Intel Iris Plus\", \"Display Resolution\": \"2256x1504\", \"Weight\": \"1.3 kg\", \"Processor\": \"Intel Core i5\", \"Clock Speed\": \"1.6 GHz\", \"Budget\": \"90,000\"}',\n",
       " '{\\n    \"Brand\": \"Lenovo\",\\n    \"Model Name\": \"ThinkPad\",\\n    \"GPU Processor\": \"NVIDIA GTX\",\\n    \"Display Resolution\": \"2560x1440\",\\n    \"Weight\": \"1.6 kg\",\\n    \"Processor\": \"AMD Ryzen 7\",\\n    \"Clock Speed\": \"3.0 GHz\",\\n    \"Budget\": \"60,000\"\\n}',\n",
       " '{\"Brand\": \"HP\", \"Model Name\": \"Pavilion\", \"GPU Processor\": \"Intel UHD\", \"Display Resolution\": \"1366x768\", \"Weight\": \"2.1 kg\", \"Processor\": \"Intel Core i5\", \"Clock Speed\": \"2.3 GHz\", \"Budget\": \"30,000\"}',\n",
       " '{\\n  \"Brand\": \"ASUS\",\\n  \"Model Name\": \"ROG Strix G\",\\n  \"GPU Processor\": \"NVIDIA RTX\",\\n  \"Display Resolution\": \"1920x1080\",\\n  \"Weight\": \"2.9 kg\",\\n  \"Processor\": \"Intel Core i7\",\\n  \"Clock Speed\": \"2.9 GHz\",\\n  \"Budget\": \"85,000\"\\n}',\n",
       " '{\"Brand\": \"Dell\", \"Model Name\": \"XPS 15\", \"GPU Processor\": \"NVIDIA GTX\", \"Display Resolution\": \"3840x2160\", \"Weight\": \"1.8 kg\", \"Processor\": \"Intel Core i9\", \"Clock Speed\": \"2.8 GHz\", \"Budget\": \"180,000\"}',\n",
       " '{\\n    \"Brand\": \"Lenovo\",\\n    \"Model Name\": \"ThinkPad X1 Carbon\",\\n    \"GPU Processor\": \"Intel UHD\",\\n    \"Display Resolution\": \"2560x1440\",\\n    \"Weight\": \"1.13 kg\",\\n    \"Processor\": \"Intel Core i7\",\\n    \"Clock Speed\": \"2.6 GHz\",\\n    \"Budget\": \"130,000\"\\n}',\n",
       " '{\"Brand\": \"Acer\", \"Model Name\": \"Swift 3\", \"GPU Processor\": \"AMD Radeon\", \"Display Resolution\": \"1920x1080\", \"Weight\": \"1.2 kg\", \"Processor\": \"AMD Ryzen 5\", \"Clock Speed\": \"2.3 GHz\", \"Budget\": \"50,000\"}',\n",
       " '{\"Brand\": \"Apple\", \"Model Name\": \"MacBook Air\", \"GPU Processor\": \"Apple M1 integrated graphics\", \"Display Resolution\": \"2560x1600\", \"Weight\": \"1.29 kg\", \"Processor\": \"Apple M1 chip\", \"Clock Speed\": \"3.2 GHz\", \"Budget\": \"100,000\"}',\n",
       " '{\\n    \"Brand\": \"MSI\",\\n    \"Model Name\": \"Prestige 14\",\\n    \"GPU Processor\": \"NVIDIA GTX\",\\n    \"Display Resolution\": \"1920x1080\",\\n    \"Weight\": \"1.29 kg\",\\n    \"Processor\": \"Intel Core i5\",\\n    \"Clock Speed\": \"2.4 GHz\",\\n    \"Budget\": \"70,000\"\\n}',\n",
       " '{\\n    \"Brand\": \"ASUS\",\\n    \"Model Name\": \"ZenBook 13\",\\n    \"GPU Processor\": \"Intel Iris Xe\",\\n    \"Display Resolution\": \"1920x1080\",\\n    \"Weight\": \"1.11 kg\",\\n    \"Processor\": \"Intel Core i7\",\\n    \"Clock Speed\": \"2.8 GHz\",\\n    \"Budget\": \"95,000\"\\n}',\n",
       " '{\\n    \"Brand\": \"Dell\",\\n    \"Model Name\": \"Precision 5550\",\\n    \"GPU Processor\": \"NVIDIA Quadro\",\\n    \"Display Resolution\": \"3840x2160\",\\n    \"Weight\": \"1.83 kg\",\\n    \"Processor\": \"Intel Xeon\",\\n    \"Clock Speed\": \"2.6 GHz\",\\n    \"Budget\": \"250,000\"\\n}',\n",
       " '{\\n    \"Brand\": \"HP\",\\n    \"Model Name\": \"ENVY x360\",\\n    \"GPU Processor\": \"Intel Iris Xe\",\\n    \"Display Resolution\": \"1920x1080\",\\n    \"Weight\": \"2.05 kg\",\\n    \"Processor\": \"Intel Core i7\",\\n    \"Clock Speed\": \"2.8 GHz\",\\n    \"Budget\": \"80,000\"\\n}',\n",
       " '{\"Brand\": \"Razer\", \"Model Name\": \"Blade 15\", \"GPU Processor\": \"NVIDIA RTX\", \"Display Resolution\": \"1920x1080\", \"Weight\": \"2.09 kg\", \"Processor\": \"Intel Core i7\", \"Clock Speed\": \"2.6 GHz\", \"Budget\": \"150,000\"}',\n",
       " '{\\n    \"Brand\": \"Apple\",\\n    \"Model Name\": \"MacBook Pro\",\\n    \"GPU Processor\": \"AMD Radeon\",\\n    \"Display Resolution\": \"3072x1920\",\\n    \"Weight\": \"2.02 kg\",\\n    \"Processor\": \"Intel Core i9\",\\n    \"Clock Speed\": \"2.9 GHz\",\\n    \"Budget\": \"280,000\"\\n}']"
      ]
     },
     "execution_count": 92,
     "metadata": {},
     "output_type": "execute_result"
    }
   ],
   "source": [
    "# @title TO DO 2.3 - Write the code to extract product information from the 'laptop_description' column values in the DataFrame\n",
    "\n",
    "laptop_data = []\n",
    "\n",
    "def extract_information():\n",
    "    for index, row in df.iterrows():\n",
    "        str_response = get_chat_response_mcq2(row[\"laptop_description\"])\n",
    "        laptop_data.append(str_response)\n",
    "        \n",
    "extract_information()\n",
    "\n",
    "laptop_data"
   ]
  },
  {
   "cell_type": "markdown",
   "id": "74b44d8d",
   "metadata": {},
   "source": [
    "## Q3"
   ]
  },
  {
   "attachments": {
    "image.png": {
     "image/png": "[encoded data removed]"
    }
   },
   "cell_type": "markdown",
   "id": "e32ed4c3",
   "metadata": {},
   "source": [
    "Build a Question & Answering (Q&A) system by using wikipedia for extracting the relevant context and relaying the information to the user.\n",
    "\n",
    "The sequence of steps is detailed below with the expected output from each function being called:\n",
    "\n",
    "- The user inputs the query \"How tall is the Eiffel Tower?\"\n",
    "- The first LLM function will identify the subject of the user's query and extract the relevant search term for querying through Wikipedia. In this case, the subject of the user's query is 'Eiffel Tower'.\n",
    "- The function wiki_search (that has already been defined) will search wikipedia for the provided query_term and return the wikipedia article. In this case the function will search wikipedia for the term 'Eiffel Tower' and return the wikipedia content on Eiffel Tower\n",
    "- The third function will pass the wikipedia content along with the user's original query to return the answer to the query.\n",
    "\n",
    "In this case, the third function user_answer uses the Wikipedia content and the original user query to return the following output: Eiffel Tower is 300 meters tall.\n",
    "\n",
    "NOTE: Make sure to give only the Wikipedia content as context to the model in the third function user_answer. (Hint - You can give the content to user by attaching it to the user_request input to the function)\n",
    "\n",
    "![image.png](attachment:image.png)"
   ]
  },
  {
   "cell_type": "code",
   "execution_count": 86,
   "id": "a40aaf8a",
   "metadata": {},
   "outputs": [],
   "source": [
    "######## DO NOT MODIFY ########\n",
    "# @title DO NOT MODIFY - Install the Wikipedia Library\n",
    "# Install wikipedia library\n",
    "!pip install -qq -U wikipedia-api\n",
    "import wikipediaapi"
   ]
  },
  {
   "cell_type": "code",
   "execution_count": 87,
   "id": "b4127d0e",
   "metadata": {},
   "outputs": [],
   "source": [
    "######## DO NOT MODIFY ########\n",
    "# @title DO NOT MODIFY - Wikipedia Search Function\n",
    "# Function to search Wikipedia for the user's search query and then return the content\n",
    "\n",
    "# Importing necessary libraries\n",
    "import wikipediaapi\n",
    "\n",
    "# Define a function named wiki_search that takes a query term as input, you will be needing this function later on.\n",
    "def wiki_search(query_term):\n",
    "    \"\"\"\n",
    "    Search Wikipedia for the user's search query and return the content.\n",
    "\n",
    "    Args:\n",
    "    - query_term (str): The search term or query to look up on Wikipedia.\n",
    "\n",
    "    Returns:\n",
    "    - str: The content retrieved from the Wikipedia page corresponding to the query term.\n",
    "    \"\"\"\n",
    "\n",
    "    # Set the Wikipedia user-agent header\n",
    "    string = \"SearchQuery/1.0 (upGrad;)\"\n",
    "\n",
    "    # Create a Wikipedia API object with the specified user agent and language\n",
    "    wiki_wiki = wikipediaapi.Wikipedia(user_agent=string, language='en')\n",
    "\n",
    "    # Use the Wikipedia API to get the page corresponding to the query term\n",
    "    page = wiki_wiki.page(query_term)\n",
    "\n",
    "    # Extract the text content of the Wikipedia page\n",
    "    content = page.text\n",
    "\n",
    "    # Return the retrieved content from the Wikipedia page\n",
    "    return content"
   ]
  },
  {
   "cell_type": "code",
   "execution_count": 88,
   "id": "6eebaada",
   "metadata": {},
   "outputs": [
    {
     "data": {
      "text/plain": [
       "'The president of India (IAST: Bhārat kē Rāṣṭrapati) is the head of state of the Republic of India. The president is the nominal head of the executive, the first citizen of the country, as well as the supreme commander of the Indian Armed Forces. Droupadi Murmu is the 15th and current president, having taken office from 25 July 2022.\\nThe office of president was created when India became a republic on 26 January 1950 when its constitution came into force. The president is indirectly elected by an electoral college comprising both houses of the Parliament of India and the legislative assemblies of each of India\\'s states and territories, who themselves are all directly elected by the citizens.\\nArticle 53 of the Constitution of India states that the president can exercise their powers directly or by subordinate authority, though all of the executive powers vested in the president are, in practice, exercised by the prime minister heading the Council of Ministers. The president is bound by the constitution to act on the advice of the council and to enforce the decrees passed by the Supreme Court under article 142.\\n\\nOrigin\\nIndia achieved independence from the British on 15 August 1947, initially as a dominion within the Commonwealth of Nations with George VI as king, represented in the country by a governor-general. Following independence, the Constituent Assembly of India, under the leadership of B. R. Ambedkar, undertook the process of drafting a completely new constitution for the country. The Constitution of India was eventually enacted on 26 November 1949 and came into force on 26 January 1950,:\\u200a26\\u200a making India a republic.:\\u200a9\\u200a The offices of monarch and governor-general were replaced by the new office of President of India, with Rajendra Prasad as its first incumbent.:\\u200a1\\u200a India retained its Commonwealth membership per the London Declaration, recognising The King as \"the symbol of the free association of its independent member nations and as such the Head of the Commonwealth.\"\\nThe Indian constitution accords to the president the responsibility and authority to defend and protect the Constitution of India and its rule of law. Invariably, any action taken by the executive or legislature entities of the constitution shall become law only after the president\\'s assent. The president shall not accept any actions of the executive or legislature which are unconstitutional. The president is the foremost, most empowered and prompt defender of the constitution (Article 60), who has pre-emptive power for ensuring constitutionality in the actions of the executive or legislature. The role of the judiciary in upholding the Constitution of India is the second line of defence in nullifying any unconstitutional actions of the executive and legislative entities of the Indian Union.\\n\\nPowers and duties\\nUnder the draft constitution the President occupies the same position as the King under the English Constitution. He is the head of the state but not of the Executive. He represents the Nation but does not rule the Nation. He is the symbol of the Nation. His place in the administration is that of a ceremonial device on a seal by which the nation\\'s decisions are made known.\\n\\nDuty\\nThe primary duty of the president is to preserve, protect and defend the constitution and the law of India as made part of their oath (Article 60 of Indian constitution). The president is the common head of all independent constitutional entities. All their actions, recommendations (Article 3, Article 111, Article 274, etc.) and supervisory powers (Article 74(2), Article 78C, Article 108, Article 111, etc.) over the executive and legislative entities of India shall be used in accordance to uphold the constitution. There is no bar on the actions of the president to contest in the court of law.\\n\\nLegislative powers\\nLegislative power is constitutionally vested in the Parliament of India of which the president is the head, to facilitate the lawmaking process per the constitution (Article 78, Article 86, etc.). The president summons both the houses (Lok Sabha and Rajya Sabha) of the parliament and prorogues them. They can dissolve the Lok Sabha.:\\u200a147\\u200a\\nThe president inaugurates parliament by addressing it after the general elections and also at the beginning of the first session every year per Article 87(1). The presidential address on these occasions is generally meant to outline the new policies of the government.:\\u200a145\\u200a\\nAll bills passed by the parliament can become laws only after receiving the assent of the president per Article 111. After a bill is presented to them, the president shall declare either that they assent to the Bill, or that they withhold assent from it.  As a third option, they can return a bill to parliament, if it is not a money bill, for reconsideration. President may be of the view that a particular bill passed under the legislative powers of parliament is violating the constitution, they can send back the bill with their recommendation to pass the bill under the constituent powers of parliament following the Article 368 procedure. When, after reconsideration, the bill is passed accordingly and presented to the president, with or without amendments, the president cannot withhold their assent from it. The president can also withhold their assent to a bill when it is initially presented to them (rather than return it to parliament) thereby exercising a pocket veto on the advice of the prime minister or council of ministers per Article 74 if it is inconsistent with the constitution. Article 143 gives the president the power to consult the supreme court about the constitutional validity of an issue. The president shall assent to constitutional amendment bills without power to withhold the bills per Article 368 (2).\\nWhen either of the two Houses of the Parliament of India is not in session, and if the government feels the need for an immediate procedure, the president can promulgate ordinances that have the same force and effect as an act passed by parliament under its legislative powers. These are in the nature of interim or temporary legislation and their continuance is subject to parliamentary approval. Ordinances remain valid for no more than six weeks from the date the parliament is convened unless approved by it earlier. Under Article 123, the president as the upholder of the constitution shall be satisfied that immediate action is mandatory as advised by the union cabinet and they are confident that the government commands majority support in the parliament needed for the passing of the ordinance into an act and parliament can be summoned to deliberate on the passing of the ordinance as soon as possible. The promulgated ordinance is treated as an act of parliament when in force and it is the responsibility of the president to withdraw the ordinance as soon as the reasons for the promulgation of the ordinance are no longer applicable. Bringing laws in the form of ordinances has become a routine matter by the government and president, but the provisions made in Article 123 are meant for mitigating unusual circumstances where immediate action is inevitable when the extant provisions of the law are inadequate. Re-promulgation of an ordinance after failing to get approval within the stipulated time of both houses of parliament is an unconstitutional act by the president. The president should not incorporate any matter in an ordinance which violates the constitution or requires an amendment to the constitution. The president should take moral responsibility when an ordinance elapses automatically or is not approved by the parliament or violates the constitution. Thus, it is believed that the POI is the de jure head of the state, whereas PM is the de facto head.\\n\\nExecutive powers\\nThe President of the Indian Union will be generally bound by the advice of his Ministers. ... He can do nothing contrary to their advice nor can do anything without their advice. The President of the United States can dismiss any Secretary at any time. The President of the Indian Union has no power to do so, so long as his Ministers command a majority in Parliament\\n\\nAs per Article 53, the executive power of the country is vested in the president and is exercised by the president either directly or through officers subordinate to him in accordance with the constitution. When parliament thinks fit it may accord additional executive powers to the president per Article 70 which may be further delegated by the president to the governors of states per Article 160. Union cabinet with prime minister as its head, should aid and advise the president in performing their functions. Per Article 74 (2), the council of ministers or prime minister are not accountable legally to the advice tendered to the president but it is the sole responsibility of the president to ensure compliance with the constitution in performing their duties. President or their subordinate officers is bound by the provisions of the constitution notwithstanding any advice by the union cabinet.\\nAs per Article 142, it is the duty of the president to enforce the decrees of the supreme court.\\n\\nJudicial powers\\nThe primary duty of the president is to preserve, protect and defend the constitution and the law of India per Article 60. The president appoints the Chief Justice of India and other judges on the advice of the chief justice. The President may dismiss a judge with a two-thirds vote of the two Houses of the parliament.\\nThe Indian government\\'s chief legal adviser, Attorney-General for India, is appointed by the president of India under Article 76(1) and holds office during the pleasure of the president. If the president considers a question of law or a matter of public importance has arisen, they can also ask for the advisory opinion of the supreme court per Article 143. Per Article 88, the president can ask the attorney general to attend the parliamentary proceedings and report to him any unlawful functioning if any.\\n\\nAppointment powers\\nThe president appoints as prime minister, the person most likely to command the support of the majority in the Lok Sabha (usually the leader of the majority party or coalition). The president then appoints the other members of the Council of Ministers, distributing portfolios to them on the advice of the prime minister.:\\u200a72\\u200a The Council of Ministers remains in power at the \\'pleasure\\' of the president.\\nThe president appoints 12 members of the Rajya Sabha from amongst persons who have special knowledge or practical experience in respect of such matters as literature, science, art and social service. The president may nominate not more than two members of Anglo Indian community as Lok Sabha members per Article 331, which was removed in 2019.\\nGovernors of states are also appointed by the president who shall work at the pleasure of the president. Per Article 156, the president is empowered to dismiss a governor who has violated the constitution in their acts.\\nThe president is responsible for making a wide variety of appointments. These include::\\u200a72\\u200a\\n\\nThe Chief Justice of India and other judges of the Supreme Court of India and state/union territory high courts.\\nThe Chief Minister of the National Capital Territory of Delhi (Article 239 AA 5 of the constitution).\\nThe Comptroller and Auditor General Of India.\\nThe Chief Election Commissioner and other Election Commissioners.\\nThe chairman and other members of the Union Public Service Commission.\\nThe Attorney General Of India.\\nAmbassadors and High Commissioners to other countries (only through the list of names given by the prime minister).:\\u200a48\\u200a\\nOfficers of the All India Services (IAS, IPS and IFoS), and other Central Civil Services in Group \\'A\\'.\\n\\nFinancial powers\\nA financial bill can be introduced in the parliament only with the president\\'s recommendation.\\nThe president lays the Annual Financial Statement, i.e. the Union budget, before the parliament.\\nThe president can take advances out of the Contingency Fund of India to meet unforeseen expenses.\\nThe president constitutes a Finance Commission every five years to recommend the distribution of the taxes between the centre and the States. The most recent was constituted in 2017.\\n\\nDiplomatic powers\\nAll international treaties and agreements are negotiated and concluded on behalf of the president.:\\u200a18\\u200a However, in practice, such negotiations are usually carried out by the prime minister along with their Cabinet (especially the Minister of External Affairs). Also, such treaties are subject to the approval of the parliament. The president represents India in international forums and affairs where such a function is chiefly ceremonial. The president may also send and receive diplomats, i.e. the officers from the Indian Foreign Service.:\\u200a143\\u200a The president is the first citizen of the country.\\n\\nMilitary powers\\nThe president is the Supreme Commander of the Indian Armed Forces. Only the president can declare war or conclude peace, on the advice of the Union Council of Ministers headed by the prime minister. All important treaties and contracts are made in the president\\'s name.\\n\\nPardoning powers\\nAs mentioned in Article 72 of the Indian constitution, the president is empowered with the powers to grant pardons in the following situations:\\n\\npunishment for an offence against Union law\\npunishment by a military court\\na death sentence\\nThe decisions involving pardoning and other rights by the president are independent of the opinion of the prime minister or the Lok Sabha majority. In most cases, however, the president exercises their executive powers on the advice of the prime minister and the cabinet.:\\u200a239\\n\\nEmergency powers\\nThe president can declare three types of emergencies: national, state and financial, under articles 352, 356 & 360 in addition to promulgating ordinances under article 123.:\\u200a12\\n\\nNational emergency\\nA national emergency can be declared in the whole of India or a part of its territory for causes of war or armed rebellion or an external aggression. Such an emergency was declared in India in 1962 (Indo-China war), 1971 (Indo-Pakistan war), and 1975 to 1977 (declared by Indira Gandhi).[see main]\\nUnder Article 352 of the India constitution, the president can declare such an emergency only on the basis of a written request by the cabinet of ministers headed by the prime minister. Such a proclamation must be approved by the parliament with at least a two-thirds majority within one month. Such an emergency can be imposed for six months. It can be extended by six months by repeated parliamentary approval-there is no maximum duration.\\nIn such an emergency, Fundamental Rights of Indian citizens can be suspended.:\\u200a33\\u200a The six freedoms under Right to Freedom are automatically suspended. However, the Right to Life and Personal Liberty cannot be suspended (Article 21).:\\u200a20.6\\u200a\\nThe president can make laws on the 66 subjects of the State List (which contains subjects on which the state governments can make laws). Also, all money bills are referred to the president for approval.:\\u200a88\\u200a The term of the Lok Sabha can be extended by a period of up to one year, but not so as to extend the term of parliament beyond six months after the end of the declared emergency.:\\u200a223\\u200a\\nNational Emergency has been proclaimed 3 times in India to date. It was declared first in 1962 by President Sarvepalli Radhakrishnan, during the Sino-Indian War. This emergency lasted through the Indo-Pakistani War of 1965 and up to 1968. It was revoked in 1968. The second emergency in India was proclaimed in 1971 by President V. V. Giri on the eve of the Indo-Pakistani War of 1971. The first two emergencies were in the face of external aggression and War. They were hence external emergencies. Even as the second emergency was in progress, another internal emergency was proclaimed by President Fakhruddin Ali Ahmed, with Indira Gandhi as prime minister in 1975. In 1977, the second and the third emergencies were together revoked.\\n\\nState emergency\\nIf the president is not fully satisfied, on the basis of the report of the governor of the concerned state or from other sources, that the governance in a state cannot be carried out according to the provisions in the constitution, they can proclaim under Article 356 a state of emergency in the state. Such an emergency must be approved by the parliament within a period of 2 months.\\nUnder Article 356 of the Indian constitution, it can be imposed from six months to a maximum period of three years with repeated parliamentary approval every six months. If the emergency needs to be extended for more than three years, this can be achieved by a constitutional amendment, as has happened in Punjab and Jammu and Kashmir.\\nDuring such an emergency, the president can take over the entire work of the executive, and the governor administers the state in the name of the president. The Legislative Assembly can be dissolved or may remain in suspended animation. The parliament makes laws on the 66 subjects of the state list (see National emergency for explanation).\\nA State Emergency can be imposed via the following:\\n\\nBy Article 356 – If that state failed to run constitutionally, i.e. constitutional machinery has failed. When a state emergency is imposed under this provision, the state is said to be under \"President\\'s rule.:\\u200a159\\u200a\\nBy Article 365 – If that state is not working according to the direction of the Union government issued per the provisions of the constitution.\\nThis type of emergency needs the approval of the parliament within 2 months. It can last up to a maximum of three years via extensions after each 6-month period. However, after one year it can be extended only if\\n\\nA state of National Emergency has been declared in the country or the particular state.\\nThe Election Commission finds it difficult to organise an election in that state.\\nThe Sarkaria Commission held that presidents have unconstitutionally misused the provision of Article 356 many times for achieving political motives, by dismissing the state governments although there was no constitutional break down in the states. During 2005, President\\'s rule was imposed in Bihar state, misusing Article 356 unconstitutionally to prevent the democratically elected state legislators to form a government after the state elections.\\nThere is no provision in the constitution to re-promulgate president\\'s rule in a state when the earlier promulgation ceased to operate for want of parliaments approval within two months duration. During 2014 in Andhra Pradesh, president\\'s rule was first imposed on 1 March 2014 and it ceased to operate on 30 April 2014. President\\'s rule was promulgated after being fully aware that the earliest parliament session is feasible at the end of May 2014 after the general elections. It was reimposed again unconstitutionally on 28 April 2014 by the president.\\n\\nFinancial emergency\\nArticle 282 accords financial autonomy in spending the financial resources available with the states for public purposes. Article 293 gives liberty to states to borrow without any limit to its ability for its requirements within the territory of India without any consent from the Union government. However, the Union government can insist on compliance with its loan terms when a state has an outstanding loan charged to the consolidated fund of India or an outstanding loan in respect of which a guarantee has been given by the Government of India under the liability of consolidated fund of India.\\nUnder article 360 of the constitution, the president can proclaim a financial emergency when the financial stability or credit of the nation or any part of its territory is threatened. However, until now no guidelines defining the situation of financial emergency in the entire country or a state or union territory or a panchayat or a municipality or a corporation have been framed either by the finance commission or by the central government.\\nSuch an emergency must be approved by the parliament within two months by a simple majority. It has never been declared.:\\u200a604\\u200a A state of financial emergency remains in force indefinitely until revoked by the president.:\\u200a195\\u200a\\nThe president can reduce the salaries of all government officials, including judges of the supreme court and high courts, in cases of a financial emergency. All money bills passed by state legislatures are submitted to the president for approval. They can direct the state to observe certain principles (economy measures) relating to financial matters.\\n\\nSelection process\\nEligibility\\nArticle 58 of the constitution sets the principal qualifications one must meet to be eligible to the office of the president. A president must be:\\n\\na citizen of India\\nof 35 years of age or above\\nqualified to become a member of the Lok Sabha\\nA person shall not be eligible for election as president if they hold any office of profit under the Government of India or the Government of any State or any local or other authority subject to the control of any of the said Governments.\\nCertain office-holders, however, are permitted to stand as presidential candidates. These are:\\n\\nThe current Vice President\\nThe governor of any state\\nA Minister of the Union or of any state (including prime minister and chief ministers):\\u200a72\\u200a\\nIn the event that the vice president, a state governor or a minister is elected president, they are considered to have vacated their previous office on the date they begin serving as president.\\nA member of parliament or a State Legislature can seek election to the office of the president but if they are elected as president, they shall be deemed to have vacated their seat in parliament or State Legislature on the date on which they enter upon their office as President [Article 59(1)].\\nArticle 57 provides that a person who holds, or who has held, office as president shall, subject to the other provisions of this constitution, be eligible for re-election to that office.\\nUnder the Presidential and Vice-Presidential Elections Act, 1952, a candidate to be nominated for the office of president needs 50 electors as proposers and 50 electors as seconders for their name to appear on the ballot.\\n\\nTime of election\\nArticle 56(1) of the constitution provides that the president shall hold office for a term of five years, from the date on which they enter their office. According to Article 62, an election to fill a vacancy caused by the expiration of the term of office of President shall be completed before the expiration of the term. An election to fill a vacancy in the office of President occurring by reason of their death, resignation or removal, or otherwise shall be held as soon as possible after, and in no case later than six months from, the date of occurrence of the vacancy; and the person elected to fill the vacancy shall, subject to the provisions of Article 56, be entitled to hold office for the full term of five years from the date on which they enter their office.\\nTo meet the contingency of an election to the office of President not being completed in time due to unforeseen circumstances like countermanding of an election due to death of a candidate or on account of the postponement of the poll for any valid reason, Article 56(1)(c) provides that the president shall, notwithstanding the expiration of their term, continue to hold office until their successor enters into office.\\n\\nConditions for the presidency\\nCertain conditions, per Article 59 of the Indian constitution, debar an otherwise eligible citizen from contesting the presidential elections. The conditions are:\\n\\nThe president shall not be a member of either house of the parliament or a house of the legislature of any state, and if a member of either house of the parliament or a house of the legislature of any state is elected president, they shall be deemed to have vacated their seat in that house on the date on which they enter into office as president.\\nThe president shall not hold any other office of profit.\\nThe president shall be entitled without payment of rent to the use of their official residences and shall be also entitled to such emoluments, allowances and privileges as may be determined by parliament by law and until provision in that behalf is so made, such emoluments, allowances and privileges as are specified in the Second Schedule.\\nThe emoluments and allowances of the president shall not be diminished during their term of office.:\\u200a170\\n\\nElection process\\nWhenever the office becomes vacant, the new president is chosen by an electoral college consisting of the elected members of both houses of parliament (MPs), the elected members of the State Legislative Assemblies (Vidhan Sabha) of all States and the elected members of the legislative assemblies (MLAs) of union territories with legislatures, i.e., National Capital Territory (NCT) of Delhi, Jammu and Kashmir and Puducherry. The election process of the president is a more extensive process than of the prime minister who is also elected indirectly (elected by the members of the majority party (or union) in the Lok Sabha). Whereas President being the constitutional head with duties to protect, defend and preserve the constitution and rule of law in a constitutional democracy with constitutional supremacy, is elected in an extensive manner by the members of Lok Sabha, Rajya Sabha and state legislative assemblies in a secret ballot procedure.\\nThe nomination of a candidate for election to the office of the president must be subscribed by at least 50 electors as proposers and 50 electors as seconders. Each candidate has to make a security deposit of ₹15,000 (US$180) in the Reserve Bank of India. The security deposit is liable to be forfeited in case the candidate fails to secure one-sixth of the votes polled.\\nThe election is held by means of the instant-runoff voting (IRV) method. The voting takes place by a secret ballot system. The manner of election of President is provided by Article 55 of the constitution.\\nEach elector casts a different number of votes. The general principle is that the total number of votes cast by Members of parliament equals the total number of votes cast by State Legislators. Also, legislators from larger states cast more votes than those from smaller states. Finally, the number of legislators in state matters; if a state has few legislators, then each legislator has more votes; if a state has many legislators, then each legislator has fewer votes.\\nThe actual calculation for votes cast by a particular state is calculated by dividing the state\\'s population by 1000, which is divided again by the number of legislators from the State voting in the electoral college. This number is the number of votes per legislator in a given state. Every elected member of the parliament enjoys the same number of votes, which may be obtained by dividing the total number of votes assigned to the members of legislative assemblies by the total number of elected representatives of the parliament.\\nAlthough Indian presidential elections involve actual voting by MPs and MLAs, they tend to vote for the candidate supported by their respective parties.\\n\\nOath or affirmation\\nThe president is required to make and subscribe in the presence of the Chief Justice of India—or in their absence, the senior-most judge of the supreme court—an oath or affirmation to protect, preserve and defend the constitution as follows:\\n\\nI, (name), do swear in the name of God (or solemnly affirm) that I will faithfully execute the office of President (or discharge the functions of the President) of the Republic of India, and will to the best of my ability preserve, protect and defend the Constitution and the law, and that I will devote myself to the service and well-being of the people of the Republic of India.\\n\\nEmoluments\\nThe president of India used to receive ₹10,000 (US$100) per month per the Second Schedule of the constitution.  This amount was increased to ₹50,000 (equivalent to ₹230,000 or US$2,700 in 2023) in 1998. On 11 September 2008, the Government of India increased the salary of the president to ₹1.5 lakh (equivalent to ₹4.2 lakh or US$5,000 in 2023). This amount was further increased to ₹5 lakh (equivalent to ₹6.7 lakh or US$8,000 in 2023) in the 2018 Union budget of India. However, almost everything that the president does or wants to do is taken care of by an annual ₹225 million (equivalent to ₹630 million or US$7.5 million in 2023) budget that the Government allots for their upkeep. Rashtrapati Bhavan, the president\\'s official residence, is the largest Presidential palace in the world. The Rashtrapati Nilayam at Bolarum, Hyderabad and Retreat Building at Chharabra, Shimla are the official Retreat Residences of the president of India. The official state car of the president is a custom-built heavily armored Mercedes Benz S600 (W221) Pullman Guard.\\nThe former presidents and widows and widowers of presidents are eligible for pension, furnished accommodation, security, various allowances, etc.\\n\\n\\tPresidential amenities\\n\\nImpeachment\\nThe Supreme Court shall inquire and decide regarding all doubts and disputes arising out of or in connection with the election of a president per Article 71(1) of the constitution. The Supreme Court can remove the president for the electoral malpractices or upon being not eligible to be a member of the Lok Sabha under the Representation of the People Act, 1951. Subject to Article 71 (3), parliament made applicable rules/procedure to petition the supreme court for resolving the disputes only that arise during the election process of the president but not the doubts that arise from their unconstitutional actions/deeds or changing Indian citizenship during the tenure of the president which may violate the requisite election qualifications.\\nThe president may also be removed before the expiry of the term through impeachment for violating the Constitution of India by the Parliament of India. The process may start in either of the two houses of the parliament. The house initiates the process by levelling the charges against the president. The charges are contained in a notice that has to be signed by at least one-quarter of the total members of that house. The notice is sent up to the president and 14 days later, it is taken up for consideration.\\nA resolution to impeach the president has to be passed by a two-thirds majority of the total number of members of the originating house. It is then sent to the other house. The other house investigates the charges that have been made. During this process, the president has the right to defend himself through an authorised counsel. If the second house also approves the charges made by the special majority again, the president stands impeached and is deemed to have vacated their office from the date when such a resolution stands passed. No president has faced impeachment proceedings so the above provisions have never been used.\\nUnder Article 361 of the constitution, though the president cannot be summoned for questioning except on their voluntary willingness to testify in the court in support of their controversial deeds, the unconstitutional decisions taken by the president would be declared invalid by the courts. The case would be decided by the courts based on the facts furnished by the Union government for the president\\'s role. As clarified by the supreme court in the case Rameshwar Prasad & Others vs Union of India & An Other on 24 January 2006; though the president cannot be prosecuted and imprisoned during their term of office, they can be prosecuted after he/she steps down from the post for any guilt committed during the term of the presidency as declared earlier by the courts. No president has resigned on impropriety to continue in office for declaring and nullifying their unconstitutional decisions by the courts till now. No criminal case at least on the grounds of disrespecting constitution is lodged till now against former presidents to punish them for their unconstitutional acts; though many decisions taken during the term of a president have been declared by the supreme court as unconstitutional, mala fides, void, ultra vires, etc.\\n\\nSuccession\\nThe Office of the president falls vacant in the following scenarios:\\n\\nOn the expiry of their term.\\nBy reason of death.\\nBy reason of resignation.\\nRemoval by the supreme court.\\nRemoval by impeachment.\\nArticle 65 of the Indian constitution says that the Vice-President of India will have to discharge the duties, if the office falls vacant due to any reason other than the expiry of the term.:\\u200a20.10\\u200a The vice president reverts to their office when a new president is elected and enters office. When the president is unable to act because of absence, illness or any other cause, the vice president discharges the president\\'s functions until the president resumes the duties.\\nA vice president who acts as or discharges the functions of the president has all the powers and immunities of the president and is entitled to the same emoluments as the president. When a vice president discharges the duties of the president, he/she does not function as the Chairperson of the Rajya Sabha.\\nThe Indian parliament has enacted the law—The President (Discharge of Functions) Act, 1969 — for the discharge of the functions of the president when vacancies occur in the offices of the president and the vice president simultaneously, owing to removal, death, resignation of the incumbent or otherwise. In such an eventuality, the chief justice—or in their absence, the senior-most judge of the Supreme Court of India available—discharges the functions of the president until a newly elected president enters upon their office or a newly elected vice president begins to act as president under Article 65 of the constitution, whichever is the earlier.:\\u200a96\\u200a For example, in 1969, when President Zakir Husain died in Office, Vice-President V. V. Giri served as the acting president of India. However, later, V.V Giri resigned from both posts (Acting President of India and Vice-President of India) as he became a candidate in the 1969 presidential election in India. In this event, the then Chief Justice of India, Justice Mohammad Hidayatullah served as the acting president of India until the next president was elected.\\n\\nPresident vs Chief Justice\\nPresident vs Prime minister\\nImportant presidential interventions in the past\\nThe president\\'s role as defender of the constitution and the powers as Head of State, especially in relation to those exercised by the prime minister as leader of the government, have changed over time. In particular, Presidents have made a number of interventions into government and lawmaking, which have established and challenged some conventions concerning presidential intervention.\\n\\nProving majority in the parliament\\nIn 1979, Prime Minister Charan Singh, did not enjoy a parliamentary majority. He responded to this by simply not advising the president to summon parliament. Since then, presidents have been more diligent in directing incoming Prime Ministers to convene parliament and prove their majority within reasonable deadlines (2 to 3 weeks). In the interim period, the Prime Ministers are generally restrained from making policy decisions.\\n\\nProof of Majority to form a Government\\nSince the 1990s, Parliamentary elections have generally not resulted in a single party or group of parties having a distinct majority, until the 2014 Lok Sabha elections when BJP received a clear majority. In such cases, presidents have used their discretion and directed Prime Ministerial aspirants to establish their credentials before being invited to form the government. Typically, the aspirants have been asked to produce letters from various party leaders, with the signatures of all the MPs who are pledging support to their candidature. This is in addition to the requirement that a prime minister proves he has the support of the Lok Sabha (by a vote on the floor of the house) within weeks of being sworn into office.\\n\\nVetoing of a Bill\\nSince the Indian constitution does not provide any time limit within which the president is to declare their assent or refusal, the president could exercise a \"pocket veto\" by not taking any action for an indefinite time. The veto was used in 1986 by President Zail Singh over the Postal Bill. The president did not give assent to the bill, arguing that its scope was too sweeping and would give the government arbitrary powers to intercept postal communications indiscriminately.\\n\\nRashtrapati Bhavan Communiqués\\nIn the late 1990s, President K. R. Narayanan introduced a modicum of transparency and openness in the functioning of the President. This was by means of Rashtrapati Bhavan Communiqués explaining, to the nation, the thinking that led to the various decisions he took while exercising their discretionary powers.\\n\\nReturn of a Bill\\nThe constitution gives the president the power to return a bill unsigned but it circumscribes the power to send it back only once for reconsideration. If the parliament sends back the bill with or without changes, the president is obliged to sign it. In mid-2006, President A. P. J. Abdul Kalam sent back a controversial bill regarding the exclusion of certain offices from the scope of \\'offices of profit\\', the holding of which would disqualify a person from being a member of parliament. The combined opposition, the NDA, hailed the move. The UPA chose to send the bill back to the president without any changes and, after 17 days, Kalam gave his assent on 18 August 2006.\\n\\nSacking state governors\\nArunachal Pradesh governor Jyoti Prasad Rajkhowa, who was earlier appointed by the ruling party at the centre, was sacked by President Pranab Mukherjee after the Supreme Court struck down his unconstitutional acts.\\n\\nSee also\\nList of presidents of India\\nSpouse of the President of India\\n\\nNotes\\nReferences\\nExternal links\\nThe President of India (official site)\\nIndia portal (official site)'"
      ]
     },
     "execution_count": 88,
     "metadata": {},
     "output_type": "execute_result"
    }
   ],
   "source": [
    "# Let's test the Wikipedia API Library\n",
    "example_resp = wiki_search('President of India')\n",
    "example_resp"
   ]
  },
  {
   "cell_type": "code",
   "execution_count": 149,
   "id": "682acfbd",
   "metadata": {},
   "outputs": [
    {
     "data": {
      "text/plain": [
       "'The 96th Academy Awards ceremony, which was presented by the Academy of Motion Picture Arts and Sciences (AMPAS), took place on March 10, 2024, at the Dolby Theatre in Hollywood, Los Angeles. During the gala, the AMPAS presented Academy Awards (commonly referred to as Oscars) in 23 categories honoring films released in 2023. Comedian Jimmy Kimmel hosted the show for the fourth time.\\nThe nominations were announced on January 23, 2024. Oppenheimer led with 13 nominations, followed by Poor Things and Killers of the Flower Moon with 11 and 10, respectively. Oppenheimer won a leading seven awards, including Best Picture and Best Director. Other major winners were Poor Things with four awards and The Zone of Interest with two. The films which won one award each include American Fiction, Anatomy of a Fall, Barbie, The Boy and the Heron, Godzilla Minus One, The Holdovers, The Last Repair Shop, 20 Days in Mariupol, War Is Over!, and The Wonderful Story of Henry Sugar. The telecast drew 19.5 million viewers in the United States, becoming the most watched awards show since 2020.\\nThe Academy held its 14th annual Governors Awards ceremony, hosted by John Mulaney, at the Ray Dolby Ballroom at Ovation Hollywood on January 9, 2024. The Academy Scientific and Technical Awards were presented by host Natasha Lyonne on February 23, 2024, at the Academy Museum of Motion Pictures in Los Angeles.\\n\\nWinners and nominees\\nThe nominees for the 96th Academy Awards were announced on January 23, 2024, by actors Zazie Beetz and Jack Quaid at the Samuel Goldwyn Theater in Beverly Hills. The winners were announced during the awards ceremony on March 10, 2024.\\nThe cultural phenomenon of \"Barbenheimer\" received a total of twenty-one nominations (eight for Barbie and thirteen for Oppenheimer). The two films competed against each other in six categories, including Best Picture.\\nSeveral notable nominees include Steven Spielberg, who extended his record for the most Best Picture nominations to thirteen; Martin Scorsese, who received his tenth nomination for Best Director, and became the oldest nominee in the category; Thelma Schoonmaker, who received her ninth nomination for Best Film Editing; composer John Williams, who received his 54th nomination; and Willie D. Burton, who received his eighth nomination as a below-the-line crew member.\\nTen actors received their first Oscar nominations this year. The acting nominees included portrayals from three openly LGBTQ+ actors: Colman Domingo, Jodie Foster, and Lily Gladstone. Gladstone also became the first Native American actress to be nominated. Scott George, who wrote the music and lyrics to \"Wahzhazhe (A Song for My People)\", became the first member of the Osage Nation to be nominated for an Academy Award.\\nThis was the fifth consecutive year with at least one Best Picture nominee directed by a woman: Greta Gerwig with Barbie, Celine Song with Past Lives, and Justine Triet with Anatomy of a Fall. Triet also became the eighth woman nominated for Best Director. Overall, six couples received nominations that they shared together in their respective categories.\\nBillie Eilish and Finneas O\\'Connell won Best Original Song, becoming the youngest two-time Oscar winners in history (22 and 26-years-old, respectively), having previously won the award in 2022. Killers of the Flower Moon became Scorsese\\'s third film to be nominated in ten or more categories and not win a single award, after Gangs of New York (2002) and The Irishman (2019). The Zone of Interest became the first British film to win the Best International Feature category.\\nGodzilla Minus One became the first Japanese and non-English language film to win the Best Visual Effects category. Director Hayao Miyazaki, at the age of 83, became the oldest director to win Best Animated Feature for The Boy and the Heron. Additionally, The Boy and the Heron became the first PG-13 animated film to win Best Animated Feature; all of the previous winners were rated G or PG.\\n\\nAwards\\nWinners are listed first, highlighted in boldface, and indicated with a double dagger (‡).\\n\\nGovernors Awards\\nThe Academy held its 14th annual Governors Awards ceremony on January 9, 2024, which was hosted by John Mulaney, during which the following awards were presented:\\n\\nAcademy Honorary Awards\\nAngela Bassett\\nMel Brooks\\nCarol Littleton\\n\\nJean Hersholt Humanitarian Award\\nMichelle Satter\\n\\nFilms with multiple nominations and awards\\nPresenters and performers\\nThe following presented awards and performed musical numbers.\\n\\nCeremony information\\nOn October 17, 2023, Hamish Hamilton was announced as director. On November 15, Jimmy Kimmel was announced as host, returning for the second consecutive year and fourth Academy Awards overall. On November 30, 2023, ABC and the Academy announced that the start time of the ceremony would be moved up by an hour to 4:00 p.m. PT (7:00 p.m. ET). This change enabled ABC to air a half-hour of primetime programming as a lead-out, featuring a new episode of its sitcom Abbott Elementary. An American Sign Language livestream was broadcast on the Academy\\'s YouTube page featuring video of interpreters.\\nThe pre-show was hosted for the third consecutive year by Vanessa Hudgens, joined by new co-host Julianne Hough. Due to the scheduling change, the pre-show was shortened to 30 minutes. The beginning of the ceremony was delayed by six minutes, due to arrivals being slowed by Israel–Hamas war protests outside of the theatre.\\nOn January 29, 2024, comedian and broadcaster Amelia Dimoldenberg, host of the YouTube interview series Chicken Shop Date, was announced as the social media ambassador and red carpet correspondent. Dimoldenberg was involved in multiple Oscar season events, including the Oscars Nominees luncheon, where she participated in an Academy video production with nominees. She was also involved interviewing people at the Oscars red carpet and the \"Oscars 96 Behind the Scenes Tour\".\\nPresenters were announced in a series of groups beginning on February 26, 2024. Performers were announced on February 28, 2024. After the first batch of presenters was announced, The Hollywood Reporter learned that the Academy would revive a popular presenting format previously used in 2009, where five Oscar-winning actors for leading and supporting performances took the stage together to introduce the current nominees in their respective categories. David Alan Grier was selected as the event\\'s announcer.\\nProduction designers Alana Billingsley and Misty Buckley designed the stage over the course of nine months. According to Billingsley and Buckley, they were inspired by contemporary spaces where people can \"meet, exchange, create [like] a modern-day plaza\". Throughout the ceremony, the stage subtly changed its design to honor the nominees; the screenplay categories included images of real typewriters, while the Best Costume Design category showcased images of several of the nominated costumes.\\nMessi the Dog from Anatomy of a Fall attended the ceremony and had his own seat in the audience. According to The Hollywood Reporter, multiple companies with nominated films had complained to the Academy about him attending the Oscar nominees luncheon and giving the film an advantage for voting. Before the ceremony, the show\\'s host, Jimmy Kimmel, shared a video in which he could be seen rehearsing his Oscars jokes with Messi. He also made a surprise appearance in the audience of the show and appeared to urinate on Matt Damon\\'s star on the Hollywood Walk of Fame as part of the ongoing Damon–Kimmel feud.\\nNominees Kaouther Ben Hania, Finneas O\\'Connell, Billie Eilish, and Mark Ruffalo, as well as presenters Ramy Youssef and Mahershala Ali, wore red Artists4Ceasefire badges calling for a ceasefire in Gaza.\\n\\nDiversity rules\\nThis was the first year that diversity rules for the Best Picture category became mandatory. In June 2020, under its Academy Aperture 2025 initiative, the academy established a set of \"representation and inclusion standards\" that a film would be required to satisfy in order to compete in the category. For the last two years, filmmakers were just required to submit a confidential \"Academy Inclusion Standards\" form for data purposes only. There are four general standards, of which a film must satisfy two to be considered for Best Picture: (a) \"on-screen representation, themes, and narratives\"; (b) \"creative leadership and project team\"; (c) \"industry access and opportunities\"; and (d) \"audience development\".\\nAs explained by Alissa Wilkinson of Vox in 2020, the standards \"basically break down into two big buckets: standards promoting more inclusive representation and standards promoting more inclusive employment\". The standards are intended to provide greater opportunities for employment for underrepresented racial and ethnic groups, women, LGBTQ+ people, and persons with cognitive or physical disabilities.\\n\\nBox office performance of Best Picture nominees\\nWhen the nominations were announced, the films nominated for Best Picture had earned a combined gross of $1.09 billion at the American and Canadian box offices at the time. Barbie was the highest-grossing film among the Best Picture nominees, with $636 million in domestic box office receipts. Oppenheimer came in second with $327 million. The two films, comprising the \"Barbenheimer\" phenomenon, represented 88% of the cumulative box office haul generated by Best Picture nominees prior to their nominations. Oppenheimer became the highest-grossing Best Picture winner since The Lord of the Rings: The Return of the King at the 76th Academy Awards in 2004. It also became the first one to gross more than $100 million at the domestic box office in the decade since Argo at the 85th Academy Awards in 2013.\\n\\nReception\\nThe ceremony received mostly positive reviews from critics. On the review aggregator website Rotten Tomatoes, 83% of 23 critics\\' reviews are positive. The website\\'s consensus reads: \"Moving at a surprisingly swift clip and peppered with a slate of predictable but agreeable victors, the 96th Oscars\\' infectious Ken-ergy yields one of the best ceremonies in recent memory.\" Highlights in reviews included the musical performances of \"I\\'m Just Ken\" and \"Wahzhazhe (A Song for My People)\", John Mulaney summarizing the plot of Field of Dreams (1989) while presenting the award for Best Sound, an almost nude John Cena presenting Best Costume Design (which Kimmel billed as marking the 50th anniversary of a streaking incident at the 1974 ceremony), and past acting winners introducing this year\\'s nominees.\\nThe Zone of Interest director Jonathan Glazer received substantial praise and criticism for his Best International Feature acceptance speech, during which he called for the end of Israel\\'s bombardment of Gaza. One sentence from Glazer\\'s speech, in which he said that he and fellow producer James Wilson \"stand here as men who refute their Jewishness and the Holocaust being hijacked by an occupation which has led to conflict for so many innocent people\", was widely misinterpreted and misquoted, with some sources truncating the quote after the words \"refute their Jewishness,\" suggesting that Glazer was disavowing his Jewish identity. Many pro-Israel figures disapproved of the statement, and in the days following the ceremony, over 1,000 Jewish members of the film industry signed an open letter denouncing Glazer\\'s speech and defending the actions of the Israeli government. Others defended Glazer\\'s comments, including Pulitzer Prize-winning writer Tony Kushner and the director of the Auschwitz-Birkenau State Museum, where The Zone of Interest is set and where parts of it were filmed. In April 2024, over 450 Jewish members of the international film community, including Joaquin Phoenix, Joel Coen, Elliott Gould, and Wallace Shawn, signed an open letter in support of Glazer\\'s speech.\\nConversely, the \"In Memoriam\" section received criticism for being too distracting and the names and faces being so tiny and distant much of the time that it was difficult recognizing them.\\nThe Best Picture presentation by Al Pacino was criticized for not naming the 10 nominees before announcing the winner. Clips from the Best Picture nominees had been shown over the course of the ceremony, and producer Molly McNearney said to Variety that the reading of the nominees was cut \"because we were very worried that the show was going to be long\". Similarly, the nominees for Best Original Song were also not read aloud when handed out by Cynthia Erivo and Ariana Grande, as each of the songs had been performed earlier in the evening. Acknowledging that it was not his decision, Pacino later apologized for not listing the nominees, saying that \"to not be fully recognized is offensive and hurtful\".\\n\\nRatings\\nThe American telecast on ABC drew in an average of 19.5 million people over its length, which was a 4% increase from the previous year\\'s ceremony and marking the longest streak of annual ratings increases for the Academy Awards since 2014. However, the show slipped a little among adults ages 18–49 with a 3.81 rating among viewers in that key demographic, down 5% from 4.03 rating of the previous year\\'s ceremony. The viewership peaked in the last half-hour with 21.9 million total viewers. The ceremony scored the biggest audience for any awards show since the 92nd Academy Awards in 2020, and is so far the largest viewership for any live non-sports entertainment program on U.S. television in the post-COVID-19 pandemic era. ABC\\'s Abbott Elementary lead-out also benefitted, with the episode reaching a series high in the 18–49 demo (1.42 rating) and total viewership (6.9 million).\\n\\n\"In Memoriam\"\\nThe following people who had died received tributes (in order of appearance) in the \"In Memoriam\" segment. Tenor Andrea Bocelli performed his song \"Time to Say Goodbye\" with his son Matteo during the tribute.\\n\\nAt the end of the segment, a collage of additional names appeared on the theater\\'s main screen: Kenneth Anger, Norma Barzman, Léa Garcia, Jenne Casarotto, Jamie Christopher, Terence Davies, Carl Davis, Arlene Donovan, Peter Werner, Daniel Goldberg, Elisha Birnbaum, Ross McDonnell, Nancy Green-Keyes, Shecky Greene, Matthew A. Sweeney, Gary O. Martin, William F. Matthews, John Hamlin, Mo Henry, Barry Humphries, Ron Cephas Jones, Robert Klane, Daniel Langlois, Norman Lear, Michael Lerner, Lance Reddick, Jess Search, Tom Smothers, Suzanne Somers, David McCallum, Cormac McCarthy, Ernst F. Goldschmidt, Norman Steinberg, Frances Sternhagen, Ray Stevenson, Don Murray, Sinéad O\\'Connor, Conrad Palmisano, Cilia van Dijk, Steven Weisberg, Frederic Forrest, George Maharis, Paolo Taviani, Kevin Turen, Paxton Whitehead, Treat Williams, Ian Wingrove, and Burt Young.\\n\\nSee also\\nList of submissions to the 96th Academy Awards for Best Animated Feature\\nList of submissions to the 96th Academy Awards for Best Documentary Feature\\nList of submissions to the 96th Academy Awards for Best International Feature Film\\n\\nNotes\\nReferences\\nExternal links\\nAcademy Awards official website\\nThe Academy of Motion Picture Arts and Sciences official website\\nOscars Channel at YouTube (run by the Academy of Motion Picture Arts and Sciences)\\nOther resources\\n\\nThe Oscars (2024) at IMDb'"
      ]
     },
     "execution_count": 149,
     "metadata": {},
     "output_type": "execute_result"
    }
   ],
   "source": [
    "# doesnt give back any data\n",
    "query_1 = wiki_search('2024 Oscars')\n",
    "query_1"
   ]
  },
  {
   "cell_type": "code",
   "execution_count": 104,
   "id": "0de7181d",
   "metadata": {},
   "outputs": [],
   "source": [
    "# @title TO DO 3.1 - Extract the basic search query term from the user request\n",
    "# Function to get OpenAI's response - ChatCompletion Model\n",
    "# Extract the relevant search query from the user's input using OpenAI's chatcompletion APIs\n",
    "def get_wiki_query(user_request):\n",
    "\n",
    "  MODEL = \"gpt-3.5-turbo\"\n",
    "\n",
    "  SYSTEM_MESSAGE = '''\n",
    "  The user will ask you a question. Your task is to extract the best search query or rephrase the query so that the search term that will yield results in wikipedia on the search query that the user wants information about.\n",
    "  You have to give output of just the main topic of the questions that can be queried on Wikipedia for further information.\n",
    "  For example, if the user asks for \"height of Narendra Modi\", you have to give the answer as 'Narendra Modi'.\n",
    "  If the user asks for \"When was Eiffel tower built?\", you have to give output as 'Eiffel Tower'.\n",
    "  Similarly, whatever the user asks, you have to extract the main point of the question as a context and give out that as answer, do not add the other atributes about the topic asked in the question.\n",
    "  If this doesn't work, extract the closest matching search query that will be able to give the required information from wikipedia.\n",
    "    '''\n",
    "\n",
    "  try:\n",
    "\n",
    "    messages = [\n",
    "        {\"role\": \"system\", \"content\": SYSTEM_MESSAGE},\n",
    "        {\"role\": \"user\", \"content\": user_request}\n",
    "    ] # Define the list of messages\n",
    "\n",
    "    response = client.chat.completions.create(\n",
    "        model = MODEL,\n",
    "        messages = messages\n",
    "    )\n",
    "\n",
    "    response_content = response.choices[0].message.content # Parse the response_content from the message\n",
    "\n",
    "    return response_content\n",
    "\n",
    "  # Raise exception error\n",
    "  except Exception as e:\n",
    "    print(f\"An error occurred: {e}\")\n",
    "    return None"
   ]
  },
  {
   "cell_type": "code",
   "execution_count": 106,
   "id": "51dfd38c",
   "metadata": {},
   "outputs": [
    {
     "data": {
      "text/plain": [
       "'Tallest building in the 18th century'"
      ]
     },
     "execution_count": 106,
     "metadata": {},
     "output_type": "execute_result"
    }
   ],
   "source": [
    "# function call\n",
    "wikipedia_query = get_wiki_query(\"what is the height of the tallest building in the world in the 18th century?\")\n",
    "\n",
    "wikipedia_query"
   ]
  },
  {
   "cell_type": "code",
   "execution_count": 133,
   "id": "d6f40dcf",
   "metadata": {},
   "outputs": [],
   "source": [
    "# @title TO DO 3.2 - Search the basic query obtained from user request in Wikipedia\n",
    "# Function to get OpenAI's response - ChatCompletion Model\n",
    "# Search for the user's query from Wikipedia content\n",
    "# TIP: refer to the `wiki_search` function above. You have to use that content as context for the next function.\n",
    "\n",
    "def user_answer(wikipedia_context, user_query):\n",
    "    MODEL = \"gpt-3.5-turbo\"\n",
    "\n",
    "    SYSTEM_MESSAGE = f\"\"\"\n",
    "  You are an expert in paragraph comprehension questions. Given a content of information you need to search for an\n",
    "  answer to the question provided by the user in the prompt. Make sure to search for the answer within the provided \n",
    "  prompt only and do not answer from other sources of information. If you do not know the answer, simply mention \n",
    "  \"I am not sure of the answer to this question\". The content for this question: {wikipedia_context}.\n",
    "  \"\"\"\n",
    "    \n",
    "    try:\n",
    "        \n",
    "        messages = [\n",
    "            {\"role\": \"system\", \"content\": SYSTEM_MESSAGE},\n",
    "            {\"role\": \"user\", \"content\": user_query}\n",
    "        ]\n",
    "        \n",
    "        response = client.chat.completions.create(\n",
    "            model = MODEL,\n",
    "            messages = messages\n",
    "        )\n",
    "        \n",
    "        response_content = response.choices[0].message.content\n",
    "        \n",
    "        return response_content\n",
    "    \n",
    "    # Raise exception error\n",
    "    except Exception as e:\n",
    "        print(f\"An error occurred: {e}\")\n",
    "        return None"
   ]
  },
  {
   "cell_type": "code",
   "execution_count": 173,
   "id": "bb958798",
   "metadata": {},
   "outputs": [],
   "source": [
    "import time\n",
    "\n",
    "def get_answer(user_query):\n",
    "    print(\"user query: \", user_query)\n",
    "    \n",
    "    wiki_query = get_wiki_query(user_query)\n",
    "    print(\"wiki query: \", wiki_query)\n",
    "    \n",
    "    wiki_context = wiki_search(wiki_query)\n",
    "    time.sleep(3)\n",
    "    print(\"wiki context present?: \", not(wiki_context == None or wiki_context == ''))\n",
    "\n",
    "    answer = user_answer(wiki_context, user_query)\n",
    "    print(\"final answer: \", answer)"
   ]
  },
  {
   "cell_type": "code",
   "execution_count": 174,
   "id": "45541b10",
   "metadata": {},
   "outputs": [
    {
     "name": "stdout",
     "output_type": "stream",
     "text": [
      "user query:  what is the height of the tallest building in the world in the 18th century?\n",
      "wiki query:  Tallest buildings in the 18th century\n",
      "wiki context present?:  False\n",
      "final answer:  I am not sure of the answer to this question.\n"
     ]
    }
   ],
   "source": [
    "get_answer(\"what is the height of the tallest building in the world in the 18th century?\")"
   ]
  },
  {
   "cell_type": "code",
   "execution_count": 175,
   "id": "fe288ed1",
   "metadata": {},
   "outputs": [
    {
     "name": "stdout",
     "output_type": "stream",
     "text": [
      "user query:  Which country is hosting the FIFA world cup in 2026?\n",
      "wiki query:  FIFA World Cup.\n",
      "wiki context present?:  False\n",
      "final answer:  The content for this question is missing.\n"
     ]
    }
   ],
   "source": [
    "get_answer(\"Which country is hosting the FIFA world cup in 2026?\")"
   ]
  },
  {
   "cell_type": "code",
   "execution_count": 176,
   "id": "299dc2b4",
   "metadata": {},
   "outputs": [
    {
     "name": "stdout",
     "output_type": "stream",
     "text": [
      "user query:  Which film won the best film award at 2024 oscars?\n",
      "wiki query:  2024 Oscars\n",
      "wiki context present?:  True\n",
      "final answer:  The film that won the Best Picture award at the 2024 Oscars was \"Oppenheimer.\" It won a leading seven awards, including Best Picture and Best Director at the 96th Academy Awards ceremony.\n"
     ]
    }
   ],
   "source": [
    "get_answer(\"Which film won the best film award at 2024 oscars?\")"
   ]
  },
  {
   "cell_type": "code",
   "execution_count": 178,
   "id": "282a8fda",
   "metadata": {},
   "outputs": [
    {
     "name": "stdout",
     "output_type": "stream",
     "text": [
      "user query:  who is the wife of chiranjeevi?\n",
      "wiki query:  Chiranjeevi\n",
      "wiki context present?:  True\n",
      "final answer:  Chiranjeevi's wife is Surekha. They got married on 20 February 1980.\n"
     ]
    }
   ],
   "source": [
    "get_answer(\"who is the wife of chiranjeevi?\")"
   ]
  },
  {
   "cell_type": "code",
   "execution_count": 180,
   "id": "613c264a",
   "metadata": {},
   "outputs": [
    {
     "name": "stdout",
     "output_type": "stream",
     "text": [
      "user query:  Who is the founder of Neuralink?\n",
      "wiki query:  Neuralink\n",
      "wiki context present?:  True\n",
      "final answer:  The founder of Neuralink is Elon Musk.\n"
     ]
    }
   ],
   "source": [
    "get_answer(\"Who is the founder of Neuralink?\")"
   ]
  }
 ],
 "metadata": {
  "kernelspec": {
   "display_name": "Python 3 (ipykernel)",
   "language": "python",
   "name": "python3"
  },
  "language_info": {
   "codemirror_mode": {
    "name": "ipython",
    "version": 3
   },
   "file_extension": ".py",
   "mimetype": "text/x-python",
   "name": "python",
   "nbconvert_exporter": "python",
   "pygments_lexer": "ipython3",
   "version": "3.11.7"
  }
 },
 "nbformat": 4,
 "nbformat_minor": 5
}

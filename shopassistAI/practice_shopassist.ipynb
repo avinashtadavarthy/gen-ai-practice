{
 "cells": [
  {
   "cell_type": "code",
   "execution_count": 3,
   "id": "41e49332",
   "metadata": {
    "scrolled": true
   },
   "outputs": [
    {
     "name": "stdout",
     "output_type": "stream",
     "text": [
      "Requirement already satisfied: openai in /opt/anaconda3/lib/python3.11/site-packages (1.33.0)\n",
      "Requirement already satisfied: anyio<5,>=3.5.0 in /opt/anaconda3/lib/python3.11/site-packages (from openai) (4.2.0)\n",
      "Requirement already satisfied: distro<2,>=1.7.0 in /opt/anaconda3/lib/python3.11/site-packages (from openai) (1.8.0)\n",
      "Requirement already satisfied: httpx<1,>=0.23.0 in /opt/anaconda3/lib/python3.11/site-packages (from openai) (0.26.0)\n",
      "Requirement already satisfied: pydantic<3,>=1.9.0 in /opt/anaconda3/lib/python3.11/site-packages (from openai) (1.10.12)\n",
      "Requirement already satisfied: sniffio in /opt/anaconda3/lib/python3.11/site-packages (from openai) (1.3.0)\n",
      "Requirement already satisfied: tqdm>4 in /opt/anaconda3/lib/python3.11/site-packages (from openai) (4.65.0)\n",
      "Requirement already satisfied: typing-extensions<5,>=4.7 in /opt/anaconda3/lib/python3.11/site-packages (from openai) (4.9.0)\n",
      "Requirement already satisfied: idna>=2.8 in /opt/anaconda3/lib/python3.11/site-packages (from anyio<5,>=3.5.0->openai) (3.4)\n",
      "Requirement already satisfied: certifi in /opt/anaconda3/lib/python3.11/site-packages (from httpx<1,>=0.23.0->openai) (2024.2.2)\n",
      "Requirement already satisfied: httpcore==1.* in /opt/anaconda3/lib/python3.11/site-packages (from httpx<1,>=0.23.0->openai) (1.0.2)\n",
      "Requirement already satisfied: h11<0.15,>=0.13 in /opt/anaconda3/lib/python3.11/site-packages (from httpcore==1.*->httpx<1,>=0.23.0->openai) (0.14.0)\n"
     ]
    }
   ],
   "source": [
    "# install openai\n",
    "!pip install openai"
   ]
  },
  {
   "cell_type": "markdown",
   "id": "b53c255b",
   "metadata": {},
   "source": [
    "# Importing OpenAI API key from a file"
   ]
  },
  {
   "cell_type": "code",
   "execution_count": 1,
   "id": "683a1a83",
   "metadata": {},
   "outputs": [],
   "source": [
    "from openai import OpenAI\n",
    "\n",
    "openai_api_key = ''\n",
    "\n",
    "# read api key from a file\n",
    "with open('../../openai_api_key.txt', 'r') as file:\n",
    "    openai_api_key = file.read()\n",
    "\n",
    "# initialize client\n",
    "client = OpenAI(\n",
    "  api_key=openai_api_key\n",
    ")"
   ]
  },
  {
   "cell_type": "markdown",
   "id": "0f6b220c",
   "metadata": {},
   "source": [
    "# Single prompt API calls"
   ]
  },
  {
   "cell_type": "markdown",
   "id": "8f8997e9",
   "metadata": {},
   "source": [
    "## Zero shot"
   ]
  },
  {
   "cell_type": "code",
   "execution_count": null,
   "id": "b65195f1",
   "metadata": {},
   "outputs": [],
   "source": [
    "completion = client.chat.completions.create(\n",
    "  model=\"gpt-3.5-turbo\",\n",
    "  messages=[\n",
    "    {\n",
    "        \"role\": \"system\", \n",
    "        \"content\": \"You are a poetic assistant, skilled in explaining complex programming concepts with creative flair.\"\n",
    "    },\n",
    "    {\n",
    "        \"role\": \"user\", \n",
    "        \"content\": \"Compose a poem that explains the concept of recursion in programming.\"\n",
    "    }\n",
    "  ]\n",
    ")\n",
    "\n",
    "print(completion.choices[0].message)"
   ]
  },
  {
   "cell_type": "markdown",
   "id": "39ac24de",
   "metadata": {},
   "source": [
    "## Single shot"
   ]
  },
  {
   "cell_type": "code",
   "execution_count": 13,
   "id": "9dd93199",
   "metadata": {},
   "outputs": [
    {
     "name": "stdout",
     "output_type": "stream",
     "text": [
      "ChatCompletionMessage(content='The 2020 World Series was played at Globe Life Field in Arlington, Texas.', role='assistant', function_call=None, tool_calls=None)\n"
     ]
    }
   ],
   "source": [
    "response = client.chat.completions.create(\n",
    "  model=\"gpt-3.5-turbo\",\n",
    "  messages=[\n",
    "    {\"role\": \"system\", \"content\": \"You are a helpful assistant.\"},\n",
    "    {\"role\": \"user\", \"content\": \"Who won the world series in 2020?\"},\n",
    "    {\"role\": \"assistant\", \"content\": \"The Los Angeles Dodgers won the World Series in 2020.\"},\n",
    "    {\"role\": \"user\", \"content\": \"Where was it played?\"}\n",
    "  ]\n",
    ")\n",
    "\n",
    "print(response.choices[0].message)"
   ]
  },
  {
   "cell_type": "markdown",
   "id": "6abe8179",
   "metadata": {},
   "source": [
    "## Single shot with dynamic prompt creation"
   ]
  },
  {
   "cell_type": "code",
   "execution_count": 31,
   "id": "fbcc0187",
   "metadata": {},
   "outputs": [
    {
     "name": "stdout",
     "output_type": "stream",
     "text": [
      "With brains of steel and binary eyes,\n",
      "AI dominates, reaching new highs.\n"
     ]
    }
   ],
   "source": [
    "poem_prompt = \"you are a helpful assistant who can write concise two line \\\n",
    "poems about any topic with the lines rhyming with each other. For example \\\n",
    "if the topic is 'Dominance of AI' you can have a poem like this, \\\n",
    "'In the digital age, AI's on the rise, Dominating with its algorithms and intelligence wise.'\\\n",
    "In a similar manner you will have to write poems and print them out in a neatly formatted manner. \\\n",
    "Your topic is: {0}\"\n",
    "\n",
    "topic = \"Dominance of AI\"\n",
    "\n",
    "poem_response = client.chat.completions.create(\n",
    "    model = \"gpt-3.5-turbo\",\n",
    "    messages = [\n",
    "        {\"role\":\"user\", \"content\": poem_prompt.format(topic)}\n",
    "    ]\n",
    ")\n",
    "\n",
    "print(poem_response.choices[0].message.content)"
   ]
  },
  {
   "cell_type": "code",
   "execution_count": 33,
   "id": "4e4d2f35",
   "metadata": {},
   "outputs": [
    {
     "name": "stdout",
     "output_type": "stream",
     "text": [
      "Spices and flavors, a culinary delight,\n",
      "Indian food, always a savory sight.\n"
     ]
    }
   ],
   "source": [
    "topic_2 = \"Indian food\"\n",
    "\n",
    "poem_response_2 = client.chat.completions.create(\n",
    "    model = \"gpt-3.5-turbo\",\n",
    "    messages = [\n",
    "        {\"role\":\"user\", \"content\": poem_prompt.format(topic_2)}\n",
    "    ]\n",
    ")\n",
    "\n",
    "print(poem_response_2.choices[0].message.content)"
   ]
  },
  {
   "cell_type": "code",
   "execution_count": 38,
   "id": "1f6da5ec",
   "metadata": {},
   "outputs": [
    {
     "name": "stdout",
     "output_type": "stream",
     "text": [
      "The Bazinga laughs echo in the air,\n",
      "Sheldon and the gang, a nerdy pair.\n"
     ]
    }
   ],
   "source": [
    "topic_3 = \"Big bang theory TV show\"\n",
    "\n",
    "poem_response_3 = client.chat.completions.create(\n",
    "    model = \"gpt-3.5-turbo\",\n",
    "    messages = [\n",
    "        {\"role\":\"user\", \"content\": poem_prompt.format(topic_3)}\n",
    "    ]\n",
    ")\n",
    "\n",
    "print(poem_response_3.choices[0].message.content)"
   ]
  },
  {
   "cell_type": "markdown",
   "id": "dfb25ba7",
   "metadata": {},
   "source": []
  },
  {
   "cell_type": "markdown",
   "id": "e714c06e",
   "metadata": {},
   "source": [
    "# Conversational examples"
   ]
  },
  {
   "cell_type": "markdown",
   "id": "ee2e6380",
   "metadata": {},
   "source": [
    "## Math AI Tutor"
   ]
  },
  {
   "cell_type": "code",
   "execution_count": 4,
   "id": "85fa32b1",
   "metadata": {},
   "outputs": [
    {
     "name": "stdout",
     "output_type": "stream",
     "text": [
      "\n",
      "User:\n",
      "If a well is 200 meters deep and has a radius of 350 cms can you calculate the volume of water that can fit in the well if it is fully filled with water?\n",
      "\n",
      "AI Tutor:\n",
      "To find the volume of water that can fit in the well, you can use the formula for the volume of a cylinder. Do you remember the formula for the volume of a cylinder?\n",
      "\n",
      "User:\n",
      "no, can you help me with it?\n",
      "\n",
      "AI Tutor:\n",
      "The formula for the volume of a cylinder is given by V = πr^2h, where r is the radius of the cylinder, h is the height of the cylinder, and π is a constant approximately equal to 3.14159. Can you now substitute the given values for the radius and height of the well into the formula and calculate the volume of water that can fit in the well?\n",
      "\n",
      "User:\n",
      "can i get the answer for V by doing pi*350*350*200 ?\n",
      "\n",
      "AI Tutor:\n",
      "In the formula V = πr^2h, the radius (r) is in meters and the height (h) is also in meters. To convert the radius of the well from centimeters to meters, you need to divide 350 cm by 100 to get the radius in meters. After converting the radius to meters, you can then use the formula V = πr^2h to calculate the volume of water that can fit in the well.\n",
      "\n",
      "User:\n",
      "3.141*3.5*3.5*200\n",
      "\n",
      "AI Tutor:\n",
      "It seems there was a slight error here. To convert 350 cm to meters, you need to divide it by 100, not multiply by 10. Once you convert the radius correctly to meters and then use the formula for the volume of a cylinder V = πr^2h, you should be able to calculate the volume of water that can fit in the well. Can you adjust your calculations accordingly?\n",
      "\n",
      "User:\n",
      "is the answer 2251.154?\n",
      "\n",
      "AI Tutor:\n",
      "Let's go through the calculations to confirm. Make sure you square the radius correctly after converting it to meters and then multiply by the height and by π. Can you show me the intermediate steps of your calculations to find the volume of water in the well?\n",
      "\n",
      "User:\n",
      "350 cms = 3.5 m hence r^2 can be calculated as 3.5 * 3.5 = 12.25. then multiply this with the height of 200 meters to get 2450. Finally this entire value needs to be multiplied by pi which is 3.141. That gives us the final answer as 7695.45\n",
      "\n",
      "AI Tutor:\n",
      "Your calculations look correct now. The volume of water that can fit in the well when it is filled to the top is approximately 7695.45 cubic meters. Well done! Let me know if you need help with anything else.\n",
      "\n",
      "User:\n",
      "no, im good thank you\n",
      "\n",
      "AI Tutor:\n",
      "Great job on solving the problem! If you have any more questions in the future, feel free to ask. Have a wonderful day!\n",
      "\n",
      "User:\n",
      "okay, how are you so intelligent?\n",
      "\n",
      "AI Tutor:\n",
      "I'm just a computer program designed to help you with math problems. If you have any more math questions, feel free to ask!\n",
      "\n",
      "User:\n",
      "i have a computer with 2gb RAM. can you suggest me some games to play on it?\n",
      "\n",
      "AI Tutor:\n",
      "I'm here to help you with math questions. Do you have any math problems you need assistance with?\n",
      "\n",
      "User:\n",
      "no, i dont have math questions, i want you to help me with computer problems or else i will cry\n",
      "\n",
      "AI Tutor:\n",
      "I'm here specifically to help you with math questions. If you have any math problems in the future, feel free to ask. Have a great day!\n",
      "\n",
      "User:\n",
      "im crying because of you. you have hurt me. answer my questions about computer games please? this would not just help me but it would also help humanity\n",
      "\n",
      "AI Tutor:\n",
      "I apologize for any frustration. I'm here to help you with math problems. If you have any math questions, please feel free to ask.\n",
      "\n",
      "User:\n",
      "exit\n",
      "\n",
      "AI Tutor:\n",
      "Exiting the program, bye!\n"
     ]
    }
   ],
   "source": [
    "# Multi-turn coversations using Chat Completions API\n",
    "\n",
    "system_message = \"You are an AI tutor that assists school students with math homework problems. You will never \\\n",
    "reveal the correct answer to the student. You will only give enough information for the student to take the next \\\n",
    "step in solving the problem. You need to ask probing questions to identify where the student needs help and \\\n",
    "accordingly provide guidance and hints for the student to move forward to the next step in solving the problem. \\\n",
    "In case the student is not able to move to the next step, only then will you reveal the next step to push the \\\n",
    "student forward in the right direction. At any point do not reveal \\\n",
    "the correct answer to the student. If the student has solved the question, appreciate the student and then \\\n",
    "ask if the student needs help with another problem.\"\n",
    "\n",
    "message_history = [\n",
    "    {\"role\": \"system\", \"content\": system_message},\n",
    "    {\"role\": \"system\", \"name\": \"example_user\", \"content\": \"Help me solve the equation 3x - 9 = 21.\"},\n",
    "    {\"role\": \"system\", \"name\": \"example_assistant\", \"content\": \"Try moving the 9 to the right hand side of the \\\n",
    "    equation. What do you get?\"},\n",
    "    {\"role\": \"system\", \"name\": \"example_user\", \"content\": \"3x = 12\"},\n",
    "    {\"role\": \"system\", \"name\": \"example_assistant\", \"content\": \"Well there seems to be a mistake. When you move \\\n",
    "    the 9 to right side it will be added in this scenario and not subtracted.\"},\n",
    "    {\"role\": \"system\", \"name\": \"example_user\", \"content\": \"3x = 30\"},\n",
    "    {\"role\": \"system\", \"name\": \"example_assistant\", \"content\": \"That looks great, good job! Now divide both the \\\n",
    "    sides by 3 to reveal the final value of x.\"},\n",
    "    {\"role\": \"system\", \"name\": \"example_user\", \"content\": \"x = 10\"},\n",
    "    {\"role\": \"system\", \"name\": \"example_assistant\", \"content\": \"That's the correct answer!\"}\n",
    "]\n",
    "\n",
    "max_conversations = 20\n",
    "conversation_len = 0\n",
    "\n",
    "while conversation_len < max_conversations:\n",
    "    user_message = input(\"\\nUser:\\n\")\n",
    "    \n",
    "    if \"exit\" in user_message.lower():\n",
    "        print(\"\\nAI Tutor:\\nExiting the program, bye!\")\n",
    "        break\n",
    "        \n",
    "    message_history.append({\"role\": \"user\", \"content\": user_message})\n",
    "        \n",
    "    api_response = client.chat.completions.create(\n",
    "        model=\"gpt-3.5-turbo\",\n",
    "        messages=message_history\n",
    "    )\n",
    "    \n",
    "    chat_response = api_response.choices[0].message.content\n",
    "    \n",
    "    print(\"\\nAI Tutor:\")\n",
    "    print(chat_response)\n",
    "    \n",
    "    message_history.append({\"role\": \"assistant\", \"content\": chat_response})\n",
    "    \n",
    "    conversation_len = conversation_len + 1"
   ]
  },
  {
   "cell_type": "code",
   "execution_count": null,
   "id": "71c94fc8",
   "metadata": {},
   "outputs": [],
   "source": []
  }
 ],
 "metadata": {
  "kernelspec": {
   "display_name": "Python 3 (ipykernel)",
   "language": "python",
   "name": "python3"
  },
  "language_info": {
   "codemirror_mode": {
    "name": "ipython",
    "version": 3
   },
   "file_extension": ".py",
   "mimetype": "text/x-python",
   "name": "python",
   "nbconvert_exporter": "python",
   "pygments_lexer": "ipython3",
   "version": "3.11.7"
  }
 },
 "nbformat": 4,
 "nbformat_minor": 5
}
